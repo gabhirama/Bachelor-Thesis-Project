{
  "nbformat": 4,
  "nbformat_minor": 0,
  "metadata": {
    "colab": {
      "provenance": []
    },
    "kernelspec": {
      "name": "python3",
      "display_name": "Python 3"
    },
    "language_info": {
      "name": "python"
    }
  },
  "cells": [
    {
      "cell_type": "code",
      "execution_count": 1,
      "metadata": {
        "id": "aWIRDBD3Lao5"
      },
      "outputs": [],
      "source": [
        "from datetime import datetime\n",
        "import pandas as pd\n",
        "import numpy as np\n",
        "import math"
      ]
    },
    {
      "cell_type": "code",
      "source": [
        "#Stations = Akola, Anand, Anantpur, Banglore, Bhubaneswar, Bijapur, Dapoli, Faizabad, Hissar, Jabalpur, Jorhat , Kanpur, Kovilpatti, Ludhiana, Mohanpur, Palampur, Parbhani, Raipur, Rakh Dhiansar, Ranchi, Ranichauri, Samastipur, Solapur, Thrissur, Udaipur\n"
      ],
      "metadata": {
        "id": "j3xVteALMT1-"
      },
      "execution_count": 2,
      "outputs": []
    },
    {
      "cell_type": "code",
      "source": [
        "excel_file = pd.ExcelFile('/content/station_data.xlsx')\n",
        "dataframes = []\n",
        "for sheet_name in excel_file.sheet_names:\n",
        "    df = pd.read_excel('/content/station_data.xlsx', sheet_name=sheet_name)\n",
        "    dataframes.append(df)"
      ],
      "metadata": {
        "id": "-vAFsexXUCvM"
      },
      "execution_count": 3,
      "outputs": []
    },
    {
      "cell_type": "code",
      "source": [
        "station_df = pd.concat(dataframes[2:])\n",
        "station_df"
      ],
      "metadata": {
        "id": "qE1V3UqU5t1m",
        "colab": {
          "base_uri": "https://localhost:8080/",
          "height": 678
        },
        "outputId": "bf3fb53d-f292-482e-ed19-309eee66669f"
      },
      "execution_count": 4,
      "outputs": [
        {
          "output_type": "execute_result",
          "data": {
            "text/plain": [
              "      Station       Date Latitude Longitude  Elevation  max_temp  min_temp  \\\n",
              "0       Akola 2001-01-01   20°42'    77°02'        282      22.0      17.0   \n",
              "1       Akola 2001-01-02   20°42'    77°02'        282      23.0       9.6   \n",
              "2       Akola 2001-01-03   20°42'    77°02'        282      23.8       9.2   \n",
              "3       Akola 2001-01-04   20°42'    77°02'        282      25.7       8.7   \n",
              "4       Akola 2001-01-05   20°42'    77°02'        282      26.6       8.1   \n",
              "...       ...        ...      ...       ...        ...       ...       ...   \n",
              "1821  Udaipur 2005-12-27   25°21'    74°38'        433      25.2       3.2   \n",
              "1822  Udaipur 2005-12-28   25°21'    74°38'        433      27.6       3.7   \n",
              "1823  Udaipur 2005-12-29   25°21'    74°38'        433      25.8       6.2   \n",
              "1824  Udaipur 2005-12-30   25°21'    74°38'        433      24.6       4.7   \n",
              "1825  Udaipur 2005-12-31   25°21'    74°38'        433      26.1       4.9   \n",
              "\n",
              "      max_RH  min_RH  wind_speed  rainfall  sunshine hours  evaporation  \\\n",
              "0       96.0    70.0         5.3      38.2             0.0          1.4   \n",
              "1       85.0    45.0         3.4       0.0             3.4          2.2   \n",
              "2       71.0    42.0         2.7       0.0             8.3          2.4   \n",
              "3       75.0    36.0         3.0       0.0             8.3          3.0   \n",
              "4       82.0    34.0         3.2       0.0             8.3          3.2   \n",
              "...      ...     ...         ...       ...             ...          ...   \n",
              "1821    94.0    22.0         1.4       0.0             8.3          2.0   \n",
              "1822    94.0    38.0         1.6       0.0             8.7          2.0   \n",
              "1823    89.0    39.0         1.6       0.0             8.7          2.0   \n",
              "1824    91.0    29.0         2.1       0.0             9.0          2.2   \n",
              "1825    90.0    35.0         1.3       0.0             8.9          2.3   \n",
              "\n",
              "      Solar Radiation   ETo  Solar Radiation   \n",
              "0                6.43  1.58               NaN  \n",
              "1               10.49  2.10               NaN  \n",
              "2               16.36  2.56               NaN  \n",
              "3               16.39  2.73               NaN  \n",
              "4               16.42  2.81               NaN  \n",
              "...               ...   ...               ...  \n",
              "1821            14.73  1.93               NaN  \n",
              "1822            15.18  2.14               NaN  \n",
              "1823            15.20  2.08               NaN  \n",
              "1824            15.55  2.13               NaN  \n",
              "1825            15.46  2.04               NaN  \n",
              "\n",
              "[38863 rows x 16 columns]"
            ],
            "text/html": [
              "\n",
              "  <div id=\"df-a7f00b67-e1d2-464d-9779-e8ceac167563\">\n",
              "    <div class=\"colab-df-container\">\n",
              "      <div>\n",
              "<style scoped>\n",
              "    .dataframe tbody tr th:only-of-type {\n",
              "        vertical-align: middle;\n",
              "    }\n",
              "\n",
              "    .dataframe tbody tr th {\n",
              "        vertical-align: top;\n",
              "    }\n",
              "\n",
              "    .dataframe thead th {\n",
              "        text-align: right;\n",
              "    }\n",
              "</style>\n",
              "<table border=\"1\" class=\"dataframe\">\n",
              "  <thead>\n",
              "    <tr style=\"text-align: right;\">\n",
              "      <th></th>\n",
              "      <th>Station</th>\n",
              "      <th>Date</th>\n",
              "      <th>Latitude</th>\n",
              "      <th>Longitude</th>\n",
              "      <th>Elevation</th>\n",
              "      <th>max_temp</th>\n",
              "      <th>min_temp</th>\n",
              "      <th>max_RH</th>\n",
              "      <th>min_RH</th>\n",
              "      <th>wind_speed</th>\n",
              "      <th>rainfall</th>\n",
              "      <th>sunshine hours</th>\n",
              "      <th>evaporation</th>\n",
              "      <th>Solar Radiation</th>\n",
              "      <th>ETo</th>\n",
              "      <th>Solar Radiation</th>\n",
              "    </tr>\n",
              "  </thead>\n",
              "  <tbody>\n",
              "    <tr>\n",
              "      <th>0</th>\n",
              "      <td>Akola</td>\n",
              "      <td>2001-01-01</td>\n",
              "      <td>20°42'</td>\n",
              "      <td>77°02'</td>\n",
              "      <td>282</td>\n",
              "      <td>22.0</td>\n",
              "      <td>17.0</td>\n",
              "      <td>96.0</td>\n",
              "      <td>70.0</td>\n",
              "      <td>5.3</td>\n",
              "      <td>38.2</td>\n",
              "      <td>0.0</td>\n",
              "      <td>1.4</td>\n",
              "      <td>6.43</td>\n",
              "      <td>1.58</td>\n",
              "      <td>NaN</td>\n",
              "    </tr>\n",
              "    <tr>\n",
              "      <th>1</th>\n",
              "      <td>Akola</td>\n",
              "      <td>2001-01-02</td>\n",
              "      <td>20°42'</td>\n",
              "      <td>77°02'</td>\n",
              "      <td>282</td>\n",
              "      <td>23.0</td>\n",
              "      <td>9.6</td>\n",
              "      <td>85.0</td>\n",
              "      <td>45.0</td>\n",
              "      <td>3.4</td>\n",
              "      <td>0.0</td>\n",
              "      <td>3.4</td>\n",
              "      <td>2.2</td>\n",
              "      <td>10.49</td>\n",
              "      <td>2.10</td>\n",
              "      <td>NaN</td>\n",
              "    </tr>\n",
              "    <tr>\n",
              "      <th>2</th>\n",
              "      <td>Akola</td>\n",
              "      <td>2001-01-03</td>\n",
              "      <td>20°42'</td>\n",
              "      <td>77°02'</td>\n",
              "      <td>282</td>\n",
              "      <td>23.8</td>\n",
              "      <td>9.2</td>\n",
              "      <td>71.0</td>\n",
              "      <td>42.0</td>\n",
              "      <td>2.7</td>\n",
              "      <td>0.0</td>\n",
              "      <td>8.3</td>\n",
              "      <td>2.4</td>\n",
              "      <td>16.36</td>\n",
              "      <td>2.56</td>\n",
              "      <td>NaN</td>\n",
              "    </tr>\n",
              "    <tr>\n",
              "      <th>3</th>\n",
              "      <td>Akola</td>\n",
              "      <td>2001-01-04</td>\n",
              "      <td>20°42'</td>\n",
              "      <td>77°02'</td>\n",
              "      <td>282</td>\n",
              "      <td>25.7</td>\n",
              "      <td>8.7</td>\n",
              "      <td>75.0</td>\n",
              "      <td>36.0</td>\n",
              "      <td>3.0</td>\n",
              "      <td>0.0</td>\n",
              "      <td>8.3</td>\n",
              "      <td>3.0</td>\n",
              "      <td>16.39</td>\n",
              "      <td>2.73</td>\n",
              "      <td>NaN</td>\n",
              "    </tr>\n",
              "    <tr>\n",
              "      <th>4</th>\n",
              "      <td>Akola</td>\n",
              "      <td>2001-01-05</td>\n",
              "      <td>20°42'</td>\n",
              "      <td>77°02'</td>\n",
              "      <td>282</td>\n",
              "      <td>26.6</td>\n",
              "      <td>8.1</td>\n",
              "      <td>82.0</td>\n",
              "      <td>34.0</td>\n",
              "      <td>3.2</td>\n",
              "      <td>0.0</td>\n",
              "      <td>8.3</td>\n",
              "      <td>3.2</td>\n",
              "      <td>16.42</td>\n",
              "      <td>2.81</td>\n",
              "      <td>NaN</td>\n",
              "    </tr>\n",
              "    <tr>\n",
              "      <th>...</th>\n",
              "      <td>...</td>\n",
              "      <td>...</td>\n",
              "      <td>...</td>\n",
              "      <td>...</td>\n",
              "      <td>...</td>\n",
              "      <td>...</td>\n",
              "      <td>...</td>\n",
              "      <td>...</td>\n",
              "      <td>...</td>\n",
              "      <td>...</td>\n",
              "      <td>...</td>\n",
              "      <td>...</td>\n",
              "      <td>...</td>\n",
              "      <td>...</td>\n",
              "      <td>...</td>\n",
              "      <td>...</td>\n",
              "    </tr>\n",
              "    <tr>\n",
              "      <th>1821</th>\n",
              "      <td>Udaipur</td>\n",
              "      <td>2005-12-27</td>\n",
              "      <td>25°21'</td>\n",
              "      <td>74°38'</td>\n",
              "      <td>433</td>\n",
              "      <td>25.2</td>\n",
              "      <td>3.2</td>\n",
              "      <td>94.0</td>\n",
              "      <td>22.0</td>\n",
              "      <td>1.4</td>\n",
              "      <td>0.0</td>\n",
              "      <td>8.3</td>\n",
              "      <td>2.0</td>\n",
              "      <td>14.73</td>\n",
              "      <td>1.93</td>\n",
              "      <td>NaN</td>\n",
              "    </tr>\n",
              "    <tr>\n",
              "      <th>1822</th>\n",
              "      <td>Udaipur</td>\n",
              "      <td>2005-12-28</td>\n",
              "      <td>25°21'</td>\n",
              "      <td>74°38'</td>\n",
              "      <td>433</td>\n",
              "      <td>27.6</td>\n",
              "      <td>3.7</td>\n",
              "      <td>94.0</td>\n",
              "      <td>38.0</td>\n",
              "      <td>1.6</td>\n",
              "      <td>0.0</td>\n",
              "      <td>8.7</td>\n",
              "      <td>2.0</td>\n",
              "      <td>15.18</td>\n",
              "      <td>2.14</td>\n",
              "      <td>NaN</td>\n",
              "    </tr>\n",
              "    <tr>\n",
              "      <th>1823</th>\n",
              "      <td>Udaipur</td>\n",
              "      <td>2005-12-29</td>\n",
              "      <td>25°21'</td>\n",
              "      <td>74°38'</td>\n",
              "      <td>433</td>\n",
              "      <td>25.8</td>\n",
              "      <td>6.2</td>\n",
              "      <td>89.0</td>\n",
              "      <td>39.0</td>\n",
              "      <td>1.6</td>\n",
              "      <td>0.0</td>\n",
              "      <td>8.7</td>\n",
              "      <td>2.0</td>\n",
              "      <td>15.20</td>\n",
              "      <td>2.08</td>\n",
              "      <td>NaN</td>\n",
              "    </tr>\n",
              "    <tr>\n",
              "      <th>1824</th>\n",
              "      <td>Udaipur</td>\n",
              "      <td>2005-12-30</td>\n",
              "      <td>25°21'</td>\n",
              "      <td>74°38'</td>\n",
              "      <td>433</td>\n",
              "      <td>24.6</td>\n",
              "      <td>4.7</td>\n",
              "      <td>91.0</td>\n",
              "      <td>29.0</td>\n",
              "      <td>2.1</td>\n",
              "      <td>0.0</td>\n",
              "      <td>9.0</td>\n",
              "      <td>2.2</td>\n",
              "      <td>15.55</td>\n",
              "      <td>2.13</td>\n",
              "      <td>NaN</td>\n",
              "    </tr>\n",
              "    <tr>\n",
              "      <th>1825</th>\n",
              "      <td>Udaipur</td>\n",
              "      <td>2005-12-31</td>\n",
              "      <td>25°21'</td>\n",
              "      <td>74°38'</td>\n",
              "      <td>433</td>\n",
              "      <td>26.1</td>\n",
              "      <td>4.9</td>\n",
              "      <td>90.0</td>\n",
              "      <td>35.0</td>\n",
              "      <td>1.3</td>\n",
              "      <td>0.0</td>\n",
              "      <td>8.9</td>\n",
              "      <td>2.3</td>\n",
              "      <td>15.46</td>\n",
              "      <td>2.04</td>\n",
              "      <td>NaN</td>\n",
              "    </tr>\n",
              "  </tbody>\n",
              "</table>\n",
              "<p>38863 rows × 16 columns</p>\n",
              "</div>\n",
              "      <button class=\"colab-df-convert\" onclick=\"convertToInteractive('df-a7f00b67-e1d2-464d-9779-e8ceac167563')\"\n",
              "              title=\"Convert this dataframe to an interactive table.\"\n",
              "              style=\"display:none;\">\n",
              "        \n",
              "  <svg xmlns=\"http://www.w3.org/2000/svg\" height=\"24px\"viewBox=\"0 0 24 24\"\n",
              "       width=\"24px\">\n",
              "    <path d=\"M0 0h24v24H0V0z\" fill=\"none\"/>\n",
              "    <path d=\"M18.56 5.44l.94 2.06.94-2.06 2.06-.94-2.06-.94-.94-2.06-.94 2.06-2.06.94zm-11 1L8.5 8.5l.94-2.06 2.06-.94-2.06-.94L8.5 2.5l-.94 2.06-2.06.94zm10 10l.94 2.06.94-2.06 2.06-.94-2.06-.94-.94-2.06-.94 2.06-2.06.94z\"/><path d=\"M17.41 7.96l-1.37-1.37c-.4-.4-.92-.59-1.43-.59-.52 0-1.04.2-1.43.59L10.3 9.45l-7.72 7.72c-.78.78-.78 2.05 0 2.83L4 21.41c.39.39.9.59 1.41.59.51 0 1.02-.2 1.41-.59l7.78-7.78 2.81-2.81c.8-.78.8-2.07 0-2.86zM5.41 20L4 18.59l7.72-7.72 1.47 1.35L5.41 20z\"/>\n",
              "  </svg>\n",
              "      </button>\n",
              "      \n",
              "  <style>\n",
              "    .colab-df-container {\n",
              "      display:flex;\n",
              "      flex-wrap:wrap;\n",
              "      gap: 12px;\n",
              "    }\n",
              "\n",
              "    .colab-df-convert {\n",
              "      background-color: #E8F0FE;\n",
              "      border: none;\n",
              "      border-radius: 50%;\n",
              "      cursor: pointer;\n",
              "      display: none;\n",
              "      fill: #1967D2;\n",
              "      height: 32px;\n",
              "      padding: 0 0 0 0;\n",
              "      width: 32px;\n",
              "    }\n",
              "\n",
              "    .colab-df-convert:hover {\n",
              "      background-color: #E2EBFA;\n",
              "      box-shadow: 0px 1px 2px rgba(60, 64, 67, 0.3), 0px 1px 3px 1px rgba(60, 64, 67, 0.15);\n",
              "      fill: #174EA6;\n",
              "    }\n",
              "\n",
              "    [theme=dark] .colab-df-convert {\n",
              "      background-color: #3B4455;\n",
              "      fill: #D2E3FC;\n",
              "    }\n",
              "\n",
              "    [theme=dark] .colab-df-convert:hover {\n",
              "      background-color: #434B5C;\n",
              "      box-shadow: 0px 1px 3px 1px rgba(0, 0, 0, 0.15);\n",
              "      filter: drop-shadow(0px 1px 2px rgba(0, 0, 0, 0.3));\n",
              "      fill: #FFFFFF;\n",
              "    }\n",
              "  </style>\n",
              "\n",
              "      <script>\n",
              "        const buttonEl =\n",
              "          document.querySelector('#df-a7f00b67-e1d2-464d-9779-e8ceac167563 button.colab-df-convert');\n",
              "        buttonEl.style.display =\n",
              "          google.colab.kernel.accessAllowed ? 'block' : 'none';\n",
              "\n",
              "        async function convertToInteractive(key) {\n",
              "          const element = document.querySelector('#df-a7f00b67-e1d2-464d-9779-e8ceac167563');\n",
              "          const dataTable =\n",
              "            await google.colab.kernel.invokeFunction('convertToInteractive',\n",
              "                                                     [key], {});\n",
              "          if (!dataTable) return;\n",
              "\n",
              "          const docLinkHtml = 'Like what you see? Visit the ' +\n",
              "            '<a target=\"_blank\" href=https://colab.research.google.com/notebooks/data_table.ipynb>data table notebook</a>'\n",
              "            + ' to learn more about interactive tables.';\n",
              "          element.innerHTML = '';\n",
              "          dataTable['output_type'] = 'display_data';\n",
              "          await google.colab.output.renderOutput(dataTable, element);\n",
              "          const docLink = document.createElement('div');\n",
              "          docLink.innerHTML = docLinkHtml;\n",
              "          element.appendChild(docLink);\n",
              "        }\n",
              "      </script>\n",
              "    </div>\n",
              "  </div>\n",
              "  "
            ]
          },
          "metadata": {},
          "execution_count": 4
        }
      ]
    },
    {
      "cell_type": "code",
      "source": [
        "station_df['Date'] = pd.to_datetime(station_df['Date'], format='%Y/%m/%d')\n",
        "station_df['Julian Day'] = station_df['Date'].dt.dayofyear"
      ],
      "metadata": {
        "id": "FphV3_gzWKSS"
      },
      "execution_count": 5,
      "outputs": []
    },
    {
      "cell_type": "code",
      "source": [
        "def convert_to_radians(angle):\n",
        "    angle = str(angle)  # Convert angle to string\n",
        "    parts = angle.split('°')\n",
        "    degrees = int(parts[0])\n",
        "    minutes = int(parts[1].rstrip('\\''))\n",
        "    total_minutes = degrees * 60 + minutes\n",
        "    radians = math.radians(total_minutes / 60)\n",
        "    return radians"
      ],
      "metadata": {
        "id": "Hj-Yf2TuYp7p"
      },
      "execution_count": 6,
      "outputs": []
    },
    {
      "cell_type": "code",
      "source": [
        "# Apply the conversion function to the \"Latitude\" and \"Longitude\" columns\n",
        "station_df['Latitude (in rad)'] = station_df['Latitude'].apply(convert_to_radians)\n",
        "station_df['Longitude (in rad)'] = station_df['Longitude'].apply(convert_to_radians)\n",
        "station_df['wind_speed'] = 5*station_df['wind_speed']/18\n",
        "station_df['mean_temp'] = station_df[['max_temp', 'min_temp']].mean(axis=1)\n",
        "station_df['mean_RH'] = station_df[['max_RH', 'min_RH']].mean(axis=1)\n",
        "station_df['max_DPT'] = (4030 * (235 + station_df['max_temp']) / (4030 - ((station_df['max_temp'] + 235) * np.log(station_df['max_RH'] / 100)))) - 235\n",
        "station_df['min_DPT'] = (4030 * (235 + station_df['min_temp']) / (4030 - ((station_df['min_temp'] + 235) * np.log(station_df['min_RH'] / 100)))) - 235\n",
        "station_df['mean_DPT'] = station_df[['max_DPT', 'min_DPT']].mean(axis=1)\n",
        "columns_order = ['Julian Day','max_temp','min_temp','mean_temp','max_RH','min_RH','mean_RH','max_DPT','min_DPT','mean_DPT','wind_speed','rainfall','sunshine hours','evaporation','Solar Radiation','ETo']\n",
        "station_df = station_df.reindex(columns=columns_order)\n",
        "station_df = station_df.dropna(axis = 0)"
      ],
      "metadata": {
        "id": "lo_cZ-9YWcge"
      },
      "execution_count": 7,
      "outputs": []
    },
    {
      "cell_type": "markdown",
      "source": [
        "On analysis, it has been clear that on applying StandardScaler transformer, there is not much appreciable change in the accuracy of the model, and hence it has been kept optional.\n",
        "\n",
        "```\n",
        "scaler = StandardScaler()\n",
        "numeric_columns = station_df.select_dtypes(include='number')\n",
        "normalized_data = scaler.fit_transform(numeric_columns)\n",
        "normalized_df = pd.DataFrame(normalized_data, columns=list(numeric_columns))\n",
        "correlation_matrix = normalized_df.corr()\n",
        "\n"
      ],
      "metadata": {
        "id": "KPLZzBMFmFLJ"
      }
    },
    {
      "cell_type": "markdown",
      "source": [
        "As we go further, the lasso regressor model limits the test data score lower than the vanilla regression, the reason being unnecessary features which have no much significance for training the model.\n",
        "\n",
        "\n",
        "```\n",
        "plt.figure(figsize=(5, 5))\n",
        "heatmap = sns.heatmap(correlation_matrix, vmin=-1, vmax=1)\n",
        "```\n",
        "\n"
      ],
      "metadata": {
        "id": "arvLUXz1l-iG"
      }
    },
    {
      "cell_type": "code",
      "source": [
        "station_df"
      ],
      "metadata": {
        "colab": {
          "base_uri": "https://localhost:8080/",
          "height": 505
        },
        "id": "gFcXB-sgsasr",
        "outputId": "2fcdf47d-1476-4eb3-9803-86b5fd751a5e"
      },
      "execution_count": 8,
      "outputs": [
        {
          "output_type": "execute_result",
          "data": {
            "text/plain": [
              "      Julian Day  max_temp  min_temp  mean_temp  max_RH  min_RH  mean_RH  \\\n",
              "0              1      22.0      17.0      19.50    96.0    70.0     83.0   \n",
              "1              2      23.0       9.6      16.30    85.0    45.0     65.0   \n",
              "2              3      23.8       9.2      16.50    71.0    42.0     56.5   \n",
              "3              4      25.7       8.7      17.20    75.0    36.0     55.5   \n",
              "4              5      26.6       8.1      17.35    82.0    34.0     58.0   \n",
              "...          ...       ...       ...        ...     ...     ...      ...   \n",
              "1821         361      25.2       3.2      14.20    94.0    22.0     58.0   \n",
              "1822         362      27.6       3.7      15.65    94.0    38.0     66.0   \n",
              "1823         363      25.8       6.2      16.00    89.0    39.0     64.0   \n",
              "1824         364      24.6       4.7      14.65    91.0    29.0     60.0   \n",
              "1825         365      26.1       4.9      15.50    90.0    35.0     62.5   \n",
              "\n",
              "        max_DPT    min_DPT   mean_DPT  wind_speed  rainfall  sunshine hours  \\\n",
              "0     21.332692  11.502201  16.417446    1.472222      38.2             0.0   \n",
              "1     20.343297  -1.706623   9.318337    0.944444       0.0             3.4   \n",
              "2     18.230408  -2.995692   7.617358    0.750000       0.0             8.3   \n",
              "3     20.936986  -5.479922   7.728532    0.833333       0.0             8.3   \n",
              "4     23.272909  -6.753502   8.259703    0.888889       0.0             8.3   \n",
              "...         ...        ...        ...         ...       ...             ...   \n",
              "1821  24.164629 -16.366615   3.899007    0.388889       0.0             8.3   \n",
              "1822  26.545480  -9.238557   8.653461    0.444444       0.0             8.7   \n",
              "1823  23.847913  -6.667954   8.589979    0.444444       0.0             8.7   \n",
              "1824  23.032402 -11.738190   5.647106    0.583333       0.0             9.0   \n",
              "1825  24.329760  -9.210569   7.559596    0.361111       0.0             8.9   \n",
              "\n",
              "      evaporation  Solar Radiation   ETo  \n",
              "0             1.4             6.43  1.58  \n",
              "1             2.2            10.49  2.10  \n",
              "2             2.4            16.36  2.56  \n",
              "3             3.0            16.39  2.73  \n",
              "4             3.2            16.42  2.81  \n",
              "...           ...              ...   ...  \n",
              "1821          2.0            14.73  1.93  \n",
              "1822          2.0            15.18  2.14  \n",
              "1823          2.0            15.20  2.08  \n",
              "1824          2.2            15.55  2.13  \n",
              "1825          2.3            15.46  2.04  \n",
              "\n",
              "[36881 rows x 16 columns]"
            ],
            "text/html": [
              "\n",
              "  <div id=\"df-105d0141-2e6d-42e0-8e61-a017a698e9d9\">\n",
              "    <div class=\"colab-df-container\">\n",
              "      <div>\n",
              "<style scoped>\n",
              "    .dataframe tbody tr th:only-of-type {\n",
              "        vertical-align: middle;\n",
              "    }\n",
              "\n",
              "    .dataframe tbody tr th {\n",
              "        vertical-align: top;\n",
              "    }\n",
              "\n",
              "    .dataframe thead th {\n",
              "        text-align: right;\n",
              "    }\n",
              "</style>\n",
              "<table border=\"1\" class=\"dataframe\">\n",
              "  <thead>\n",
              "    <tr style=\"text-align: right;\">\n",
              "      <th></th>\n",
              "      <th>Julian Day</th>\n",
              "      <th>max_temp</th>\n",
              "      <th>min_temp</th>\n",
              "      <th>mean_temp</th>\n",
              "      <th>max_RH</th>\n",
              "      <th>min_RH</th>\n",
              "      <th>mean_RH</th>\n",
              "      <th>max_DPT</th>\n",
              "      <th>min_DPT</th>\n",
              "      <th>mean_DPT</th>\n",
              "      <th>wind_speed</th>\n",
              "      <th>rainfall</th>\n",
              "      <th>sunshine hours</th>\n",
              "      <th>evaporation</th>\n",
              "      <th>Solar Radiation</th>\n",
              "      <th>ETo</th>\n",
              "    </tr>\n",
              "  </thead>\n",
              "  <tbody>\n",
              "    <tr>\n",
              "      <th>0</th>\n",
              "      <td>1</td>\n",
              "      <td>22.0</td>\n",
              "      <td>17.0</td>\n",
              "      <td>19.50</td>\n",
              "      <td>96.0</td>\n",
              "      <td>70.0</td>\n",
              "      <td>83.0</td>\n",
              "      <td>21.332692</td>\n",
              "      <td>11.502201</td>\n",
              "      <td>16.417446</td>\n",
              "      <td>1.472222</td>\n",
              "      <td>38.2</td>\n",
              "      <td>0.0</td>\n",
              "      <td>1.4</td>\n",
              "      <td>6.43</td>\n",
              "      <td>1.58</td>\n",
              "    </tr>\n",
              "    <tr>\n",
              "      <th>1</th>\n",
              "      <td>2</td>\n",
              "      <td>23.0</td>\n",
              "      <td>9.6</td>\n",
              "      <td>16.30</td>\n",
              "      <td>85.0</td>\n",
              "      <td>45.0</td>\n",
              "      <td>65.0</td>\n",
              "      <td>20.343297</td>\n",
              "      <td>-1.706623</td>\n",
              "      <td>9.318337</td>\n",
              "      <td>0.944444</td>\n",
              "      <td>0.0</td>\n",
              "      <td>3.4</td>\n",
              "      <td>2.2</td>\n",
              "      <td>10.49</td>\n",
              "      <td>2.10</td>\n",
              "    </tr>\n",
              "    <tr>\n",
              "      <th>2</th>\n",
              "      <td>3</td>\n",
              "      <td>23.8</td>\n",
              "      <td>9.2</td>\n",
              "      <td>16.50</td>\n",
              "      <td>71.0</td>\n",
              "      <td>42.0</td>\n",
              "      <td>56.5</td>\n",
              "      <td>18.230408</td>\n",
              "      <td>-2.995692</td>\n",
              "      <td>7.617358</td>\n",
              "      <td>0.750000</td>\n",
              "      <td>0.0</td>\n",
              "      <td>8.3</td>\n",
              "      <td>2.4</td>\n",
              "      <td>16.36</td>\n",
              "      <td>2.56</td>\n",
              "    </tr>\n",
              "    <tr>\n",
              "      <th>3</th>\n",
              "      <td>4</td>\n",
              "      <td>25.7</td>\n",
              "      <td>8.7</td>\n",
              "      <td>17.20</td>\n",
              "      <td>75.0</td>\n",
              "      <td>36.0</td>\n",
              "      <td>55.5</td>\n",
              "      <td>20.936986</td>\n",
              "      <td>-5.479922</td>\n",
              "      <td>7.728532</td>\n",
              "      <td>0.833333</td>\n",
              "      <td>0.0</td>\n",
              "      <td>8.3</td>\n",
              "      <td>3.0</td>\n",
              "      <td>16.39</td>\n",
              "      <td>2.73</td>\n",
              "    </tr>\n",
              "    <tr>\n",
              "      <th>4</th>\n",
              "      <td>5</td>\n",
              "      <td>26.6</td>\n",
              "      <td>8.1</td>\n",
              "      <td>17.35</td>\n",
              "      <td>82.0</td>\n",
              "      <td>34.0</td>\n",
              "      <td>58.0</td>\n",
              "      <td>23.272909</td>\n",
              "      <td>-6.753502</td>\n",
              "      <td>8.259703</td>\n",
              "      <td>0.888889</td>\n",
              "      <td>0.0</td>\n",
              "      <td>8.3</td>\n",
              "      <td>3.2</td>\n",
              "      <td>16.42</td>\n",
              "      <td>2.81</td>\n",
              "    </tr>\n",
              "    <tr>\n",
              "      <th>...</th>\n",
              "      <td>...</td>\n",
              "      <td>...</td>\n",
              "      <td>...</td>\n",
              "      <td>...</td>\n",
              "      <td>...</td>\n",
              "      <td>...</td>\n",
              "      <td>...</td>\n",
              "      <td>...</td>\n",
              "      <td>...</td>\n",
              "      <td>...</td>\n",
              "      <td>...</td>\n",
              "      <td>...</td>\n",
              "      <td>...</td>\n",
              "      <td>...</td>\n",
              "      <td>...</td>\n",
              "      <td>...</td>\n",
              "    </tr>\n",
              "    <tr>\n",
              "      <th>1821</th>\n",
              "      <td>361</td>\n",
              "      <td>25.2</td>\n",
              "      <td>3.2</td>\n",
              "      <td>14.20</td>\n",
              "      <td>94.0</td>\n",
              "      <td>22.0</td>\n",
              "      <td>58.0</td>\n",
              "      <td>24.164629</td>\n",
              "      <td>-16.366615</td>\n",
              "      <td>3.899007</td>\n",
              "      <td>0.388889</td>\n",
              "      <td>0.0</td>\n",
              "      <td>8.3</td>\n",
              "      <td>2.0</td>\n",
              "      <td>14.73</td>\n",
              "      <td>1.93</td>\n",
              "    </tr>\n",
              "    <tr>\n",
              "      <th>1822</th>\n",
              "      <td>362</td>\n",
              "      <td>27.6</td>\n",
              "      <td>3.7</td>\n",
              "      <td>15.65</td>\n",
              "      <td>94.0</td>\n",
              "      <td>38.0</td>\n",
              "      <td>66.0</td>\n",
              "      <td>26.545480</td>\n",
              "      <td>-9.238557</td>\n",
              "      <td>8.653461</td>\n",
              "      <td>0.444444</td>\n",
              "      <td>0.0</td>\n",
              "      <td>8.7</td>\n",
              "      <td>2.0</td>\n",
              "      <td>15.18</td>\n",
              "      <td>2.14</td>\n",
              "    </tr>\n",
              "    <tr>\n",
              "      <th>1823</th>\n",
              "      <td>363</td>\n",
              "      <td>25.8</td>\n",
              "      <td>6.2</td>\n",
              "      <td>16.00</td>\n",
              "      <td>89.0</td>\n",
              "      <td>39.0</td>\n",
              "      <td>64.0</td>\n",
              "      <td>23.847913</td>\n",
              "      <td>-6.667954</td>\n",
              "      <td>8.589979</td>\n",
              "      <td>0.444444</td>\n",
              "      <td>0.0</td>\n",
              "      <td>8.7</td>\n",
              "      <td>2.0</td>\n",
              "      <td>15.20</td>\n",
              "      <td>2.08</td>\n",
              "    </tr>\n",
              "    <tr>\n",
              "      <th>1824</th>\n",
              "      <td>364</td>\n",
              "      <td>24.6</td>\n",
              "      <td>4.7</td>\n",
              "      <td>14.65</td>\n",
              "      <td>91.0</td>\n",
              "      <td>29.0</td>\n",
              "      <td>60.0</td>\n",
              "      <td>23.032402</td>\n",
              "      <td>-11.738190</td>\n",
              "      <td>5.647106</td>\n",
              "      <td>0.583333</td>\n",
              "      <td>0.0</td>\n",
              "      <td>9.0</td>\n",
              "      <td>2.2</td>\n",
              "      <td>15.55</td>\n",
              "      <td>2.13</td>\n",
              "    </tr>\n",
              "    <tr>\n",
              "      <th>1825</th>\n",
              "      <td>365</td>\n",
              "      <td>26.1</td>\n",
              "      <td>4.9</td>\n",
              "      <td>15.50</td>\n",
              "      <td>90.0</td>\n",
              "      <td>35.0</td>\n",
              "      <td>62.5</td>\n",
              "      <td>24.329760</td>\n",
              "      <td>-9.210569</td>\n",
              "      <td>7.559596</td>\n",
              "      <td>0.361111</td>\n",
              "      <td>0.0</td>\n",
              "      <td>8.9</td>\n",
              "      <td>2.3</td>\n",
              "      <td>15.46</td>\n",
              "      <td>2.04</td>\n",
              "    </tr>\n",
              "  </tbody>\n",
              "</table>\n",
              "<p>36881 rows × 16 columns</p>\n",
              "</div>\n",
              "      <button class=\"colab-df-convert\" onclick=\"convertToInteractive('df-105d0141-2e6d-42e0-8e61-a017a698e9d9')\"\n",
              "              title=\"Convert this dataframe to an interactive table.\"\n",
              "              style=\"display:none;\">\n",
              "        \n",
              "  <svg xmlns=\"http://www.w3.org/2000/svg\" height=\"24px\"viewBox=\"0 0 24 24\"\n",
              "       width=\"24px\">\n",
              "    <path d=\"M0 0h24v24H0V0z\" fill=\"none\"/>\n",
              "    <path d=\"M18.56 5.44l.94 2.06.94-2.06 2.06-.94-2.06-.94-.94-2.06-.94 2.06-2.06.94zm-11 1L8.5 8.5l.94-2.06 2.06-.94-2.06-.94L8.5 2.5l-.94 2.06-2.06.94zm10 10l.94 2.06.94-2.06 2.06-.94-2.06-.94-.94-2.06-.94 2.06-2.06.94z\"/><path d=\"M17.41 7.96l-1.37-1.37c-.4-.4-.92-.59-1.43-.59-.52 0-1.04.2-1.43.59L10.3 9.45l-7.72 7.72c-.78.78-.78 2.05 0 2.83L4 21.41c.39.39.9.59 1.41.59.51 0 1.02-.2 1.41-.59l7.78-7.78 2.81-2.81c.8-.78.8-2.07 0-2.86zM5.41 20L4 18.59l7.72-7.72 1.47 1.35L5.41 20z\"/>\n",
              "  </svg>\n",
              "      </button>\n",
              "      \n",
              "  <style>\n",
              "    .colab-df-container {\n",
              "      display:flex;\n",
              "      flex-wrap:wrap;\n",
              "      gap: 12px;\n",
              "    }\n",
              "\n",
              "    .colab-df-convert {\n",
              "      background-color: #E8F0FE;\n",
              "      border: none;\n",
              "      border-radius: 50%;\n",
              "      cursor: pointer;\n",
              "      display: none;\n",
              "      fill: #1967D2;\n",
              "      height: 32px;\n",
              "      padding: 0 0 0 0;\n",
              "      width: 32px;\n",
              "    }\n",
              "\n",
              "    .colab-df-convert:hover {\n",
              "      background-color: #E2EBFA;\n",
              "      box-shadow: 0px 1px 2px rgba(60, 64, 67, 0.3), 0px 1px 3px 1px rgba(60, 64, 67, 0.15);\n",
              "      fill: #174EA6;\n",
              "    }\n",
              "\n",
              "    [theme=dark] .colab-df-convert {\n",
              "      background-color: #3B4455;\n",
              "      fill: #D2E3FC;\n",
              "    }\n",
              "\n",
              "    [theme=dark] .colab-df-convert:hover {\n",
              "      background-color: #434B5C;\n",
              "      box-shadow: 0px 1px 3px 1px rgba(0, 0, 0, 0.15);\n",
              "      filter: drop-shadow(0px 1px 2px rgba(0, 0, 0, 0.3));\n",
              "      fill: #FFFFFF;\n",
              "    }\n",
              "  </style>\n",
              "\n",
              "      <script>\n",
              "        const buttonEl =\n",
              "          document.querySelector('#df-105d0141-2e6d-42e0-8e61-a017a698e9d9 button.colab-df-convert');\n",
              "        buttonEl.style.display =\n",
              "          google.colab.kernel.accessAllowed ? 'block' : 'none';\n",
              "\n",
              "        async function convertToInteractive(key) {\n",
              "          const element = document.querySelector('#df-105d0141-2e6d-42e0-8e61-a017a698e9d9');\n",
              "          const dataTable =\n",
              "            await google.colab.kernel.invokeFunction('convertToInteractive',\n",
              "                                                     [key], {});\n",
              "          if (!dataTable) return;\n",
              "\n",
              "          const docLinkHtml = 'Like what you see? Visit the ' +\n",
              "            '<a target=\"_blank\" href=https://colab.research.google.com/notebooks/data_table.ipynb>data table notebook</a>'\n",
              "            + ' to learn more about interactive tables.';\n",
              "          element.innerHTML = '';\n",
              "          dataTable['output_type'] = 'display_data';\n",
              "          await google.colab.output.renderOutput(dataTable, element);\n",
              "          const docLink = document.createElement('div');\n",
              "          docLink.innerHTML = docLinkHtml;\n",
              "          element.appendChild(docLink);\n",
              "        }\n",
              "      </script>\n",
              "    </div>\n",
              "  </div>\n",
              "  "
            ]
          },
          "metadata": {},
          "execution_count": 8
        }
      ]
    },
    {
      "cell_type": "code",
      "source": [
        "x = station_df.drop(['ETo','rainfall','mean_temp','mean_RH','max_DPT','min_DPT','mean_DPT','evaporation'],axis=1)\n",
        "y = station_df.ETo"
      ],
      "metadata": {
        "id": "F1IRH7CSsdQt"
      },
      "execution_count": 9,
      "outputs": []
    },
    {
      "cell_type": "code",
      "source": [
        "x.head()"
      ],
      "metadata": {
        "colab": {
          "base_uri": "https://localhost:8080/",
          "height": 206
        },
        "id": "V8bZIvZoRWvV",
        "outputId": "b4b05e24-2cfd-450b-82b3-2b3c19787761"
      },
      "execution_count": 10,
      "outputs": [
        {
          "output_type": "execute_result",
          "data": {
            "text/plain": [
              "   Julian Day  max_temp  min_temp  max_RH  min_RH  wind_speed  sunshine hours  \\\n",
              "0           1      22.0      17.0    96.0    70.0    1.472222             0.0   \n",
              "1           2      23.0       9.6    85.0    45.0    0.944444             3.4   \n",
              "2           3      23.8       9.2    71.0    42.0    0.750000             8.3   \n",
              "3           4      25.7       8.7    75.0    36.0    0.833333             8.3   \n",
              "4           5      26.6       8.1    82.0    34.0    0.888889             8.3   \n",
              "\n",
              "   Solar Radiation  \n",
              "0             6.43  \n",
              "1            10.49  \n",
              "2            16.36  \n",
              "3            16.39  \n",
              "4            16.42  "
            ],
            "text/html": [
              "\n",
              "  <div id=\"df-2cdabc40-0d33-4727-a83b-6b60245975af\">\n",
              "    <div class=\"colab-df-container\">\n",
              "      <div>\n",
              "<style scoped>\n",
              "    .dataframe tbody tr th:only-of-type {\n",
              "        vertical-align: middle;\n",
              "    }\n",
              "\n",
              "    .dataframe tbody tr th {\n",
              "        vertical-align: top;\n",
              "    }\n",
              "\n",
              "    .dataframe thead th {\n",
              "        text-align: right;\n",
              "    }\n",
              "</style>\n",
              "<table border=\"1\" class=\"dataframe\">\n",
              "  <thead>\n",
              "    <tr style=\"text-align: right;\">\n",
              "      <th></th>\n",
              "      <th>Julian Day</th>\n",
              "      <th>max_temp</th>\n",
              "      <th>min_temp</th>\n",
              "      <th>max_RH</th>\n",
              "      <th>min_RH</th>\n",
              "      <th>wind_speed</th>\n",
              "      <th>sunshine hours</th>\n",
              "      <th>Solar Radiation</th>\n",
              "    </tr>\n",
              "  </thead>\n",
              "  <tbody>\n",
              "    <tr>\n",
              "      <th>0</th>\n",
              "      <td>1</td>\n",
              "      <td>22.0</td>\n",
              "      <td>17.0</td>\n",
              "      <td>96.0</td>\n",
              "      <td>70.0</td>\n",
              "      <td>1.472222</td>\n",
              "      <td>0.0</td>\n",
              "      <td>6.43</td>\n",
              "    </tr>\n",
              "    <tr>\n",
              "      <th>1</th>\n",
              "      <td>2</td>\n",
              "      <td>23.0</td>\n",
              "      <td>9.6</td>\n",
              "      <td>85.0</td>\n",
              "      <td>45.0</td>\n",
              "      <td>0.944444</td>\n",
              "      <td>3.4</td>\n",
              "      <td>10.49</td>\n",
              "    </tr>\n",
              "    <tr>\n",
              "      <th>2</th>\n",
              "      <td>3</td>\n",
              "      <td>23.8</td>\n",
              "      <td>9.2</td>\n",
              "      <td>71.0</td>\n",
              "      <td>42.0</td>\n",
              "      <td>0.750000</td>\n",
              "      <td>8.3</td>\n",
              "      <td>16.36</td>\n",
              "    </tr>\n",
              "    <tr>\n",
              "      <th>3</th>\n",
              "      <td>4</td>\n",
              "      <td>25.7</td>\n",
              "      <td>8.7</td>\n",
              "      <td>75.0</td>\n",
              "      <td>36.0</td>\n",
              "      <td>0.833333</td>\n",
              "      <td>8.3</td>\n",
              "      <td>16.39</td>\n",
              "    </tr>\n",
              "    <tr>\n",
              "      <th>4</th>\n",
              "      <td>5</td>\n",
              "      <td>26.6</td>\n",
              "      <td>8.1</td>\n",
              "      <td>82.0</td>\n",
              "      <td>34.0</td>\n",
              "      <td>0.888889</td>\n",
              "      <td>8.3</td>\n",
              "      <td>16.42</td>\n",
              "    </tr>\n",
              "  </tbody>\n",
              "</table>\n",
              "</div>\n",
              "      <button class=\"colab-df-convert\" onclick=\"convertToInteractive('df-2cdabc40-0d33-4727-a83b-6b60245975af')\"\n",
              "              title=\"Convert this dataframe to an interactive table.\"\n",
              "              style=\"display:none;\">\n",
              "        \n",
              "  <svg xmlns=\"http://www.w3.org/2000/svg\" height=\"24px\"viewBox=\"0 0 24 24\"\n",
              "       width=\"24px\">\n",
              "    <path d=\"M0 0h24v24H0V0z\" fill=\"none\"/>\n",
              "    <path d=\"M18.56 5.44l.94 2.06.94-2.06 2.06-.94-2.06-.94-.94-2.06-.94 2.06-2.06.94zm-11 1L8.5 8.5l.94-2.06 2.06-.94-2.06-.94L8.5 2.5l-.94 2.06-2.06.94zm10 10l.94 2.06.94-2.06 2.06-.94-2.06-.94-.94-2.06-.94 2.06-2.06.94z\"/><path d=\"M17.41 7.96l-1.37-1.37c-.4-.4-.92-.59-1.43-.59-.52 0-1.04.2-1.43.59L10.3 9.45l-7.72 7.72c-.78.78-.78 2.05 0 2.83L4 21.41c.39.39.9.59 1.41.59.51 0 1.02-.2 1.41-.59l7.78-7.78 2.81-2.81c.8-.78.8-2.07 0-2.86zM5.41 20L4 18.59l7.72-7.72 1.47 1.35L5.41 20z\"/>\n",
              "  </svg>\n",
              "      </button>\n",
              "      \n",
              "  <style>\n",
              "    .colab-df-container {\n",
              "      display:flex;\n",
              "      flex-wrap:wrap;\n",
              "      gap: 12px;\n",
              "    }\n",
              "\n",
              "    .colab-df-convert {\n",
              "      background-color: #E8F0FE;\n",
              "      border: none;\n",
              "      border-radius: 50%;\n",
              "      cursor: pointer;\n",
              "      display: none;\n",
              "      fill: #1967D2;\n",
              "      height: 32px;\n",
              "      padding: 0 0 0 0;\n",
              "      width: 32px;\n",
              "    }\n",
              "\n",
              "    .colab-df-convert:hover {\n",
              "      background-color: #E2EBFA;\n",
              "      box-shadow: 0px 1px 2px rgba(60, 64, 67, 0.3), 0px 1px 3px 1px rgba(60, 64, 67, 0.15);\n",
              "      fill: #174EA6;\n",
              "    }\n",
              "\n",
              "    [theme=dark] .colab-df-convert {\n",
              "      background-color: #3B4455;\n",
              "      fill: #D2E3FC;\n",
              "    }\n",
              "\n",
              "    [theme=dark] .colab-df-convert:hover {\n",
              "      background-color: #434B5C;\n",
              "      box-shadow: 0px 1px 3px 1px rgba(0, 0, 0, 0.15);\n",
              "      filter: drop-shadow(0px 1px 2px rgba(0, 0, 0, 0.3));\n",
              "      fill: #FFFFFF;\n",
              "    }\n",
              "  </style>\n",
              "\n",
              "      <script>\n",
              "        const buttonEl =\n",
              "          document.querySelector('#df-2cdabc40-0d33-4727-a83b-6b60245975af button.colab-df-convert');\n",
              "        buttonEl.style.display =\n",
              "          google.colab.kernel.accessAllowed ? 'block' : 'none';\n",
              "\n",
              "        async function convertToInteractive(key) {\n",
              "          const element = document.querySelector('#df-2cdabc40-0d33-4727-a83b-6b60245975af');\n",
              "          const dataTable =\n",
              "            await google.colab.kernel.invokeFunction('convertToInteractive',\n",
              "                                                     [key], {});\n",
              "          if (!dataTable) return;\n",
              "\n",
              "          const docLinkHtml = 'Like what you see? Visit the ' +\n",
              "            '<a target=\"_blank\" href=https://colab.research.google.com/notebooks/data_table.ipynb>data table notebook</a>'\n",
              "            + ' to learn more about interactive tables.';\n",
              "          element.innerHTML = '';\n",
              "          dataTable['output_type'] = 'display_data';\n",
              "          await google.colab.output.renderOutput(dataTable, element);\n",
              "          const docLink = document.createElement('div');\n",
              "          docLink.innerHTML = docLinkHtml;\n",
              "          element.appendChild(docLink);\n",
              "        }\n",
              "      </script>\n",
              "    </div>\n",
              "  </div>\n",
              "  "
            ]
          },
          "metadata": {},
          "execution_count": 10
        }
      ]
    },
    {
      "cell_type": "code",
      "source": [
        "from sklearn.model_selection import train_test_split\n",
        "x_train,x_test,y_train,y_test = train_test_split(x,y,test_size = 0.33,random_state = 42)"
      ],
      "metadata": {
        "id": "-gq-jmyXsqL1"
      },
      "execution_count": 11,
      "outputs": []
    },
    {
      "cell_type": "code",
      "source": [
        "from sklearn.linear_model import LinearRegression\n",
        "lr = LinearRegression()\n",
        "lr.fit(x_train,y_train)\n",
        "lr.score(x_test,y_test)"
      ],
      "metadata": {
        "colab": {
          "base_uri": "https://localhost:8080/"
        },
        "id": "RkAvVM7-r_sI",
        "outputId": "b5192c0d-47c9-453f-ffb0-4db0938649bc"
      },
      "execution_count": 12,
      "outputs": [
        {
          "output_type": "execute_result",
          "data": {
            "text/plain": [
              "0.9231085321817383"
            ]
          },
          "metadata": {},
          "execution_count": 12
        }
      ]
    },
    {
      "cell_type": "code",
      "source": [
        "from sklearn.linear_model import Lasso\n",
        "lasso = Lasso(alpha=0.001)\n",
        "lasso.fit(x_train,y_train)\n",
        "lasso.score(x_test,y_test)"
      ],
      "metadata": {
        "colab": {
          "base_uri": "https://localhost:8080/"
        },
        "id": "XUzlpLAYsLmL",
        "outputId": "af373afe-a4f3-4ce4-9f34-28c0a54b15af"
      },
      "execution_count": 13,
      "outputs": [
        {
          "output_type": "execute_result",
          "data": {
            "text/plain": [
              "0.9231138159397934"
            ]
          },
          "metadata": {},
          "execution_count": 13
        }
      ]
    },
    {
      "cell_type": "code",
      "source": [
        "from sklearn.linear_model import Ridge\n",
        "ridge = Ridge(alpha=0.001)\n",
        "ridge.fit(x_train,y_train)\n",
        "ridge.score(x_test,y_test)"
      ],
      "metadata": {
        "colab": {
          "base_uri": "https://localhost:8080/"
        },
        "id": "4tMgN0qkthrA",
        "outputId": "8dd374a7-5313-4212-ceab-4740a591a57f"
      },
      "execution_count": 14,
      "outputs": [
        {
          "output_type": "execute_result",
          "data": {
            "text/plain": [
              "0.9231085322815384"
            ]
          },
          "metadata": {},
          "execution_count": 14
        }
      ]
    },
    {
      "cell_type": "code",
      "source": [
        "from sklearn.svm import SVR\n",
        "svr_model = SVR()\n",
        "svr_model.fit(x_train, y_train)\n",
        "svr_model.score(x_test,y_test)"
      ],
      "metadata": {
        "id": "8XV5EPu6uAbJ",
        "colab": {
          "base_uri": "https://localhost:8080/"
        },
        "outputId": "8ac6ed84-740d-4f11-97c4-a54a454c92c7"
      },
      "execution_count": 15,
      "outputs": [
        {
          "output_type": "execute_result",
          "data": {
            "text/plain": [
              "0.9350048459558442"
            ]
          },
          "metadata": {},
          "execution_count": 15
        }
      ]
    },
    {
      "cell_type": "code",
      "source": [
        "from sklearn.tree import DecisionTreeRegressor\n",
        "dt_model = DecisionTreeRegressor(max_depth=10, random_state=42)\n",
        "dt_model.fit(x_train, y_train)\n",
        "dt_model.score(x_test,y_test)"
      ],
      "metadata": {
        "colab": {
          "base_uri": "https://localhost:8080/"
        },
        "id": "pTiH2PxdmYMp",
        "outputId": "03957d51-3348-4a2b-f3d7-1d2b11bab0bf"
      },
      "execution_count": 16,
      "outputs": [
        {
          "output_type": "execute_result",
          "data": {
            "text/plain": [
              "0.9639682816458398"
            ]
          },
          "metadata": {},
          "execution_count": 16
        }
      ]
    },
    {
      "cell_type": "code",
      "source": [
        "from sklearn.ensemble import RandomForestRegressor\n",
        "rf_model = RandomForestRegressor(n_estimators=100, max_depth = 200, random_state=42)\n",
        "rf_model.fit(x_train, y_train)\n",
        "rf_model.score(x_test,y_test)"
      ],
      "metadata": {
        "colab": {
          "base_uri": "https://localhost:8080/"
        },
        "id": "OVKRrSVTm3ID",
        "outputId": "0b5fd8b8-481e-4ebb-9724-682e6dcf355b"
      },
      "execution_count": 17,
      "outputs": [
        {
          "output_type": "execute_result",
          "data": {
            "text/plain": [
              "0.9922774772859587"
            ]
          },
          "metadata": {},
          "execution_count": 17
        }
      ]
    },
    {
      "cell_type": "code",
      "source": [
        "from sklearn.ensemble import GradientBoostingRegressor\n",
        "gb_model = GradientBoostingRegressor(n_estimators=100, learning_rate=0.1, random_state=42)\n",
        "gb_model.fit(x_train, y_train)\n",
        "gb_model.score(x_test,y_test)"
      ],
      "metadata": {
        "colab": {
          "base_uri": "https://localhost:8080/"
        },
        "id": "C3o5DjOIm6Lb",
        "outputId": "bfaf9a45-d8e1-48d3-b6a9-fddc53fca190"
      },
      "execution_count": 18,
      "outputs": [
        {
          "output_type": "execute_result",
          "data": {
            "text/plain": [
              "0.983373598155494"
            ]
          },
          "metadata": {},
          "execution_count": 18
        }
      ]
    },
    {
      "cell_type": "code",
      "source": [
        "from sklearn.neural_network import MLPRegressor\n",
        "nn_model = MLPRegressor(hidden_layer_sizes=(100,50), batch_size = 50, activation='relu', solver='adam', learning_rate = 'adaptive', random_state=42)\n",
        "nn_model.fit(x_train, y_train)\n",
        "nn_model.score(x_test,y_test)"
      ],
      "metadata": {
        "colab": {
          "base_uri": "https://localhost:8080/"
        },
        "id": "K9RrPtJBm_bl",
        "outputId": "3215df00-a04e-471e-96e0-6ba1247d4325"
      },
      "execution_count": 19,
      "outputs": [
        {
          "output_type": "execute_result",
          "data": {
            "text/plain": [
              "0.9974077665317791"
            ]
          },
          "metadata": {},
          "execution_count": 19
        }
      ]
    },
    {
      "cell_type": "code",
      "source": [
        "import xgboost as xgb\n",
        "xgb_model = xgb.XGBRegressor()\n",
        "xgb_model.fit(x_train,y_train)\n",
        "xgb_model.score(x_test,y_test)"
      ],
      "metadata": {
        "colab": {
          "base_uri": "https://localhost:8080/"
        },
        "id": "U6GoNz0QnNYy",
        "outputId": "ccc060d6-fafd-40b5-ece0-fcbaab1b05a3"
      },
      "execution_count": 20,
      "outputs": [
        {
          "output_type": "execute_result",
          "data": {
            "text/plain": [
              "0.9937637758553464"
            ]
          },
          "metadata": {},
          "execution_count": 20
        }
      ]
    },
    {
      "cell_type": "code",
      "source": [
        "import matplotlib.pyplot as plt\n",
        "model_names = ['Linear Reg.', 'Ridge', 'Lasso', 'SVM','Decision Tree','Random Forest','Gradient Boost','XGBoost','Perceptron']\n",
        "train_scores = [lr.score(x_train,y_train), ridge.score(x_train,y_train), lasso.score(x_train,y_train),svr_model.score(x_train,y_train),dt_model.score(x_train,y_train),rf_model.score(x_train,y_train),gb_model.score(x_train,y_train),xgb_model.score(x_train,y_train),nn_model.score(x_train,y_train)]\n",
        "test_scores = [lr.score(x_test,y_test), ridge.score(x_test,y_test), lasso.score(x_test,y_test),svr_model.score(x_test,y_test),dt_model.score(x_test,y_test),rf_model.score(x_test,y_test),gb_model.score(x_test,y_test),xgb_model.score(x_test,y_test),nn_model.score(x_test,y_test)]\n",
        "# Width of each bar\n",
        "bar_width = 0.35\n",
        "\n",
        "length = np.arange(len(model_names))\n",
        "plt.bar(length, train_scores, width=bar_width, label='Training Data Accuracy')\n",
        "plt.bar(length + bar_width, test_scores, width=bar_width, label='Testing Data Accuracy')\n",
        "\n",
        "plt.xlabel('Models')\n",
        "plt.ylabel('Score')\n",
        "plt.title('Comparision of scores of different Regression models')\n",
        "plt.xticks(length + bar_width / 2, model_names)\n",
        "plt.xticks(rotation=45)\n",
        "# Display the plot\n",
        "plt.show()"
      ],
      "metadata": {
        "colab": {
          "base_uri": "https://localhost:8080/",
          "height": 542
        },
        "id": "MNMthrRlnRVs",
        "outputId": "270b1152-dd01-4eee-9a6a-af6c05b5fff2"
      },
      "execution_count": 21,
      "outputs": [
        {
          "output_type": "display_data",
          "data": {
            "text/plain": [
              "<Figure size 640x480 with 1 Axes>"
            ],
            "image/png": "[encoded data removed]"
          },
          "metadata": {}
        }
      ]
    },
    {
      "cell_type": "markdown",
      "source": [
        "### The Best model hence would be a **Multi-layer Perceptron** with an accuracy score of 99.7%"
      ],
      "metadata": {
        "id": "f-jf3Z5fpxeZ"
      }
    },
    {
      "cell_type": "code",
      "source": [
        "import pickle\n",
        "with open('weather data regressor.pickle','wb') as f:\n",
        "  pickle.dump(nn_model,f)"
      ],
      "metadata": {
        "id": "113z9FNjqKkQ"
      },
      "execution_count": 22,
      "outputs": []
    }
  ]
}