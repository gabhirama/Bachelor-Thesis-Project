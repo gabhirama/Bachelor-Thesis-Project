{
  "cells": [
    {
      "cell_type": "code",
      "execution_count": 2,
      "metadata": {
        "id": "KJkKHU42puAj"
      },
      "outputs": [],
      "source": [
        "from datetime import datetime\n",
        "import math"
      ]
    },
    {
      "cell_type": "code",
      "execution_count": 3,
      "metadata": {
        "id": "JRZk_WKRolmI"
      },
      "outputs": [
        {
          "name": "stdout",
          "output_type": "stream",
          "text": [
            "Enter the coordinates of the test site in the format (Degrees°Minutes')\n",
            "\n"
          ]
        }
      ],
      "source": [
        "#Julain Day\n",
        "user_input = input(\"Enter a date (YYYY-MM-DD): \")\n",
        "user_date = datetime.strptime(user_input, \"%Y-%m-%d\").date()\n",
        "julian_day = user_date.timetuple().tm_yday\n",
        "\n",
        "#Latitude and Longitude of the test site\n",
        "print(\"Enter the coordinates of the test site in the format (Degrees°Minutes')\\n\")\n",
        "\n",
        "latitude = input(\"Latitude \")\n",
        "degrees, minutes = latitude.split(\"°\")\n",
        "degrees = int(degrees)\n",
        "minutes = int(minutes[:-1])\n",
        "latitude = float(degrees + (minutes / 60))\n",
        "latitude_radians = math.radians(latitude)\n",
        "\n",
        "longitude = input(\"Longitude \")\n",
        "degrees, minutes = longitude.split(\"°\")\n",
        "degrees = int(degrees)\n",
        "minutes = int(minutes[:-1])\n",
        "longitude = float(degrees + (minutes / 60))\n",
        "longitude_radians = math.radians(longitude)\n",
        "\n",
        "#Elevation of the test site\n",
        "elevation = int(input(\"Enter elevation of the test site: \"))\n",
        "\n",
        "#Wind speed at 2meters\n",
        "wind_speed = float(input(\"Enter wind speed at 2 meters from ground: \"))\n",
        "wind_speed = 5*wind_speed/18\n",
        "\n",
        "#Temperatures\n",
        "max_temp = float(input(\"Enter today's maximum temperature: \"))\n",
        "min_temp = float(input(\"Enter today's minimum temperature: \"))\n",
        "mean_temp = (max_temp + min_temp)/2\n",
        "\n",
        "#Relative Humidity\n",
        "max_RH = int(input(\"Enter the relative humidty corresponding to maximum temperature: \"))\n",
        "min_RH = int(input(\"Enter the relative humidty corresponding to minimum temperature: \"))\n",
        "mean_RH = (max_RH + min_RH)/2\n",
        "\n",
        "#Dew Point Temperature\n",
        "max_DPT = (4030*(235+max_temp)/(4030-((max_temp+235)*math.log(max_RH/100))))-235\n",
        "min_DPT = (4030*(235+min_temp)/(4030-((min_temp+235)*math.log(min_RH/100))))-235\n",
        "mean_DPT = (max_DPT + min_DPT)/2\n",
        "\n",
        "#Actual Sunshine Hours, measured using Campbell-Stokes Sunshine Recorder\n",
        "n = float(input(\"Enter the actual sunshime duration of the day recorded \"))\n",
        "\n",
        "#Rainfall Data\n",
        "rainfall = float(input(\"Enter the rainfall of the day: \"))"
      ]
    },
    {
      "cell_type": "code",
      "execution_count": 4,
      "metadata": {
        "id": "z2yaDCEkv-cN"
      },
      "outputs": [],
      "source": [
        "#Constants\n",
        "lambdaa = 2.45                                                                                                      #Latent Heat of Vapourization\n",
        "alpha = 0.23                                                                                                        #Albedo / Crop Canopy Coefficient\n",
        "sigma = 4.903e-9                                                                                                    #Stefan-Bolzmann Constant\n",
        "Gsc = 0.082                                                                                                         #Solar Constant"
      ]
    },
    {
      "cell_type": "code",
      "execution_count": 5,
      "metadata": {
        "id": "VXoD61Ufsa-C"
      },
      "outputs": [
        {
          "name": "stdout",
          "output_type": "stream",
          "text": [
            "The calculated Reference Evapotranspiration is 4.471414050562653 mm/day\n"
          ]
        }
      ],
      "source": [
        "PI = math.pi\n",
        "solar_dec = 0.409 * math.sin((2 * PI * julian_day / 365) - 1.39)                                                    #Solar Declination (in radians)\n",
        "dr = 1 + 0.033 * math.cos(2 * PI * julian_day / 365)                                                                #Inverse Relative Distance Earth-Sun\n",
        "ws = math.acos(-math.tan(latitude_radians) * math.tan(solar_dec))                                                   #Sunset/Sunrise hour angle (in radians)\n",
        "N = 24*ws/PI                                                                                                        #Daylight Hours\n",
        "sinx = (ws * math.sin(latitude_radians) * math.sin(solar_dec)) + (math.cos(latitude_radians) * math.cos(solar_dec)) #sin(Solar Altitude Angle)\n",
        "Ra = 24 * 60 * Gsc * dr * sinx / PI                                                                                 #Extraterrestrial Radiation\n",
        "Rs = (0.25+(0.5*(n/N)))*Ra                                                                                          #Solar Radiation\n",
        "Rso = (0.75 + (2e-5*elevation))*Ra                                                                                  #Clear-Sky Solar Radiation\n",
        "f = (1.35*Rs/Rso) - 0.35                                                                                            #Cloudiness Function\n",
        "ea = 0.6108*(math.exp(17.27*mean_DPT/(mean_DPT+237.3)))                                                             #Actual Vapour Pressure\n",
        "es = 0.6108*(math.exp(17.27*mean_temp/(mean_temp+237.3)))                                                           #Saturated Vapour Pressure\n",
        "epsilon = 0.34 - (0.14 * math.sqrt(ea))                                                                             #Apparent Net Clear Sky Emmisivity\n",
        "delta = 4098*es/(mean_temp+237.3)**2                                                                                #Slope of Saturation Vapour Pressure Curve\n",
        "Bp = 101.3 * ((1 - (0.0000221843 * elevation)) ** 5.6)                                                              #Barometric Pressure\n",
        "gamma = 0.00163*Bp/lambdaa                                                                                          #Psychometric Constant\n",
        "Rns = (1-alpha)*Rs                                                                                                  #Net Shortwave Radiation\n",
        "Rnl = f*epsilon*sigma*(mean_temp + 273.15)**4                                                                       #Net Longwave Radiation\n",
        "Rn = Rns - Rnl                                                                                                      #Net Radiation\n",
        "G = 0                                                                                                               #Soil Heat Flux\n",
        "numerator = 0.408*delta*(Rn-G) + gamma*wind_speed*900*(es-ea)/(mean_temp+273)\n",
        "denominator = delta + gamma*(1+(0.34*wind_speed))\n",
        "ETo = numerator/denominator                                                                                         #Reference Evapotranspiration\n",
        "print(\"The calculated Reference Evapotranspiration is\",ETo,\"mm/day\")"
      ]
    },
    {
      "cell_type": "code",
      "execution_count": 7,
      "metadata": {},
      "outputs": [],
      "source": [
        "#Constants\n",
        "Kc = 0.6                                                                                                            #Crop Coefficient\n",
        "RootDepth = 0.3                                                                                                     #Root Depth\n",
        "FC = 18                                                                                                             #Field Capacity\n",
        "WP = 5                                                                                                              #Wilting Point\n",
        "P = 0.5                                                                                                             #Soil Moisture Depletion Fraction\n",
        "Q = 0.75                                                                                                            #Maximum Allowable Depletion Fraction\n",
        "TAW = 10*(FC-WP)*RootDepth                                                                                          #Total Available Water\n",
        "RAW = P*TAW                                                                                                         #Readily Available Water\n",
        "MAD = Q*TAW                                                                                                         #Maximum Allowable Depletion"
      ]
    }
  ],
  "metadata": {
    "colab": {
      "provenance": []
    },
    "kernelspec": {
      "display_name": "Python 3",
      "name": "python3"
    },
    "language_info": {
      "codemirror_mode": {
        "name": "ipython",
        "version": 3
      },
      "file_extension": ".py",
      "mimetype": "text/x-python",
      "name": "python",
      "nbconvert_exporter": "python",
      "pygments_lexer": "ipython3",
      "version": "3.11.4"
    }
  },
  "nbformat": 4,
  "nbformat_minor": 0
}
