{
  "nbformat": 4,
  "nbformat_minor": 0,
  "metadata": {
    "colab": {
      "provenance": []
    },
    "kernelspec": {
      "name": "python3",
      "display_name": "Python 3"
    },
    "language_info": {
      "name": "python"
    }
  },
  "cells": [
    {
      "cell_type": "code",
      "execution_count": 1,
      "metadata": {
        "id": "opGRqMt8Eb8d"
      },
      "outputs": [],
      "source": [
        "from datetime import datetime\n",
        "import math"
      ]
    },
    {
      "cell_type": "code",
      "source": [
        "#Julain Day\n",
        "user_input = input(\"Enter a date (YYYY-MM-DD): \")\n",
        "user_date = datetime.strptime(user_input, \"%Y-%m-%d\").date()\n",
        "julian_day = user_date.timetuple().tm_yday\n",
        "\n",
        "#Time of Data Recording\n",
        "time_str = input(\"Enter the time (HH:MM:SS): \")\n",
        "time_stamp = int(time_str.split(\":\")[0])+0.5\n",
        "\n",
        "#Latitude and Longitude of the test site\n",
        "print(\"Enter the coordinates of the test site in the format (Degrees°Minutes')\\n\")\n",
        "\n",
        "latitude = input(\"Latitude \")\n",
        "degrees, minutes = latitude.split(\"°\")\n",
        "degrees = int(degrees)\n",
        "minutes = int(minutes[:-1])\n",
        "latitude = float(degrees + (minutes / 60))\n",
        "latitude_radians = math.radians(latitude)\n",
        "\n",
        "longitude = input(\"Longitude \")\n",
        "degrees, minutes = longitude.split(\"°\")\n",
        "degrees = int(degrees)\n",
        "minutes = int(minutes[:-1])\n",
        "longitude = float(degrees + (minutes / 60))\n",
        "longitude_from_west = 360 - longitude\n",
        "\n",
        "hours_ahead_gmt = float(input(\"Enter UTC offset (hours ahead of GMT): \"))\n",
        "longitude_of_time_zone = 360 - hours_ahead_gmt * 15\n",
        "\n",
        "#Elevation of the test site\n",
        "elevation = int(input(\"Enter elevation of the test site: \"))\n",
        "\n",
        "#Wind speed at 2meters\n",
        "wind_speed = float(input(\"Enter wind speed at 2 meters from ground: \"))\n",
        "wind_speed = 5*wind_speed/18\n",
        "\n",
        "#Temperatures\n",
        "max_temp = float(input(\"Enter the maximum temperature recorded this hour: \"))\n",
        "min_temp = float(input(\"Enter the miniimum temperature recorded this hour: \"))\n",
        "mean_temp = (max_temp + min_temp)/2\n",
        "\n",
        "#Relative Humidity\n",
        "max_RH = int(input(\"Enter the relative humidty corresponding to this hour's maximum temperature: \"))\n",
        "min_RH = int(input(\"Enter the relative humidty corresponding to this hour's minimum temperature: \"))\n",
        "mean_RH = (max_RH + min_RH)/2\n",
        "\n",
        "#Dew Point Temperature\n",
        "max_DPT = (4030*(235+max_temp)/(4030-((max_temp+235)*math.log(max_RH/100))))-235\n",
        "min_DPT = (4030*(235+min_temp)/(4030-((min_temp+235)*math.log(min_RH/100))))-235\n",
        "mean_DPT = (max_DPT + min_DPT)/2"
      ],
      "metadata": {
        "colab": {
          "base_uri": "https://localhost:8080/"
        },
        "id": "0p3jpu0gEfA5",
        "outputId": "a15a2d63-7efd-42b8-d53b-1b7caa778dc6"
      },
      "execution_count": 6,
      "outputs": [
        {
          "name": "stdout",
          "output_type": "stream",
          "text": [
            "Enter a date (YYYY-MM-DD): 2023-05-19\n",
            "Enter the time (HH:MM:SS): 00:06:08\n",
            "Enter the coordinates of the test site in the format (Degrees°Minutes')\n",
            "\n",
            "Latitude 17°12'\n",
            "Longitude 78°27'\n",
            "Enter UTC offset (hours ahead of GMT): 5.5\n",
            "Enter elevation of the test site: 593\n",
            "Enter wind speed at 2 meters from ground: 7.416\n",
            "Enter the maximum temperature recorded this hour: 29\n",
            "Enter the miniimum temperature recorded this hour: 26\n",
            "Enter the relative humidty corresponding to this hour's maximum temperature: 36\n",
            "Enter the relative humidty corresponding to this hour's minimum temperature: 36\n"
          ]
        }
      ]
    },
    {
      "cell_type": "code",
      "source": [
        "#Constants\n",
        "lambdaa = 2.45                                                                                                      #Latent Heat of Vapourization\n",
        "alpha = 0.23                                                                                                        #Albedo / Crop Canopy Coefficient\n",
        "sigma = 2.043e-10                                                                                                   #Stefan-Bolzmann Constant\n",
        "Gsc = 0.082                                                                                                         #Solar Constant"
      ],
      "metadata": {
        "id": "52Y9k9cQLelH"
      },
      "execution_count": 7,
      "outputs": []
    },
    {
      "cell_type": "code",
      "source": [
        "PI = math.pi  \n",
        "solar_dec = 0.409 * math.sin((2 * PI * julian_day / 365) - 1.39)                                                                                        #Solar Declination (in radians)\n",
        "dr = 1 + 0.033 * math.cos(2 * PI * julian_day / 365)                                                                                                     #Inverse Relative Distance Earth-Sun\n",
        "b = 2*PI*(julian_day-81)/364\n",
        "Sc = 0.1645 * math.sin(2*b) - 0.1225 * math.cos(b) - 0.025 * math.sin(b)                                                     \n",
        "w = PI*(time_stamp + 0.06667*(longitude_of_time_zone - longitude_from_west) + Sc - 12)/12                                                               #Solar time angle at midpoint of hour [rad] \n",
        "w1 = w - (PI/24)                                                                                                                                        #Solar time angle at beginning of hour [rad]\n",
        "w2 = w + (PI/24)                                                                                                                                        #Solar time angle at end of hour [rad]\n",
        "sinx = ((w2-w1) * math.sin(latitude_radians) * math.sin(solar_dec)) + (math.cos(latitude_radians) * math.cos(solar_dec) * (math.sin(w2)-math.sin(w1)))  #sin(Solar Altitude Angle)\n",
        "Ra = 12 * 60 * Gsc * dr * sinx / PI                                                                                                                     #Extraterrestrial Radiation\n",
        "\n",
        "if mean_RH > 65:\n",
        "  if (time_stamp >6 and time_stamp < 18):\n",
        "    Rs = 2.45\n",
        "    Rso = Rs*0.4\n",
        "    f = 0.19\n",
        "  else:\n",
        "    Rs = 0\n",
        "    Rso = 0\n",
        "    f = 0.19 \n",
        "else:\n",
        "  if (time_stamp >6 and time_stamp < 18):\n",
        "    Rs = 2.45\n",
        "    Rso = Rs*0.8\n",
        "    f = 0.73\n",
        "  else:\n",
        "    Rs = 0                                                                                                                                              #Solar Radiation\n",
        "    Rso = 0                                                                                                                                             #Clear Sky Solar Radiation\n",
        "    f = 0.73                                                                                                                                            #Cloudiness Function\n",
        "ea = 0.6108*(math.exp(17.27*mean_DPT/(mean_DPT+237.3)))                                                                                                 #Actual Vapour Pressure\n",
        "es = 0.6108*(math.exp(17.27*mean_temp/(mean_temp+237.3)))                                                                                               #Saturated Vapour Pressure\n",
        "epsilon = 0.34 - (0.14 * math.sqrt(ea))                                                                                                                 #Apparent Net Clear Sky Emmisivity\n",
        "delta = 4098*es/(mean_temp+237.3)**2                                                                                                                    #Slope of Saturation Vapour Pressure Curve\n",
        "Bp = 101.3 * ((1 - (0.0000221843 * elevation)) ** 5.6)                                                                                                  #Barometric Pressure\n",
        "gamma = 0.00163*Bp/lambdaa                                                                                                                              #Psychometric Constant\n",
        "Rns = (1-alpha)*Rs                                                                                                                                      #Net Shortwave Radiation\n",
        "Rnl = f*epsilon*sigma*(mean_temp + 273.15)**4                                                                                                           #Net Longwave Radiation\n",
        "Rn = Rns - Rnl                                                                                                                                          #Net Radiation\n",
        "if (time_stamp >6 and time_stamp < 18):\n",
        "  G = 0.1*Rn\n",
        "else:\n",
        "  G = 0.5*Rn                                                                                                                                            #Soil Heat Flux\n",
        "numerator = 0.4098*delta*(Rn-G) + gamma*wind_speed*37*(es-ea)/(mean_temp+273)\n",
        "denominator = delta + gamma*(1+(0.34*wind_speed))\n",
        "ETo = numerator/denominator                                                                                                                             #Reference Evapotranspiration\n",
        "print(\"The calculated Reference Evapotranspiration is\",ETo,\"mm/hour\")"
      ],
      "metadata": {
        "colab": {
          "base_uri": "https://localhost:8080/"
        },
        "id": "VEfvH-2rLh8U",
        "outputId": "b2531f76-2ad5-4ecf-d686-630bc6c0cc66"
      },
      "execution_count": 48,
      "outputs": [
        {
          "output_type": "stream",
          "name": "stdout",
          "text": [
            "The calculated Reference Evapotranspiration is 0.08624411194004249 mm/hour\n"
          ]
        }
      ]
    },
    {
      "cell_type": "code",
      "source": [],
      "metadata": {
        "id": "pdMjaPPMD9HM"
      },
      "execution_count": null,
      "outputs": []
    }
  ]
}