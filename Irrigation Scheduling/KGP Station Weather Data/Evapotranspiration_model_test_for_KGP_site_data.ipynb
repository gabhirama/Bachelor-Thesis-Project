{
  "cells": [
    {
      "cell_type": "code",
      "execution_count": 3,
      "id": "8730cfa5",
      "metadata": {
        "id": "8730cfa5"
      },
      "outputs": [
        {
          "name": "stderr",
          "output_type": "stream",
          "text": [
            "c:\\Users\\dell\\AppData\\Local\\Programs\\Python\\Python311\\Lib\\site-packages\\numpy\\_distributor_init.py:30: UserWarning: loaded more than 1 DLL from .libs:\n",
            "c:\\Users\\dell\\AppData\\Local\\Programs\\Python\\Python311\\Lib\\site-packages\\numpy\\.libs\\libopenblas64__v0.3.21-gcc_10_3_0.dll\n",
            "c:\\Users\\dell\\AppData\\Local\\Programs\\Python\\Python311\\Lib\\site-packages\\numpy\\.libs\\libopenblas64__v0.3.23-246-g3d31191b-gcc_10_3_0.dll\n",
            "  warnings.warn(\"loaded more than 1 DLL from .libs:\"\n"
          ]
        }
      ],
      "source": [
        "import numpy as np\n",
        "import pandas as pd\n",
        "import matplotlib.pyplot as plt\n",
        "import math\n",
        "import warnings\n",
        "warnings.filterwarnings('ignore')"
      ]
    },
    {
      "cell_type": "code",
      "execution_count": 4,
      "id": "2c5be027",
      "metadata": {
        "id": "2c5be027"
      },
      "outputs": [],
      "source": [
        "df = pd.read_excel('D:\\\\Users\\\\G S VASU\\\\Desktop\\\\Abhirama\\\\IIT Kharagpur\\\\Projects\\\\Irrigation Scheduling\\\\KGP Station Weather Data\\\\kgp_data.xlsx')"
      ]
    },
    {
      "cell_type": "code",
      "execution_count": 5,
      "id": "91fe03d8",
      "metadata": {
        "colab": {
          "base_uri": "https://localhost:8080/",
          "height": 206
        },
        "id": "91fe03d8",
        "outputId": "fcfaf2f4-34e1-4e84-f53e-fa3e76b85ea1"
      },
      "outputs": [
        {
          "data": {
            "text/html": [
              "<div>\n",
              "<style scoped>\n",
              "    .dataframe tbody tr th:only-of-type {\n",
              "        vertical-align: middle;\n",
              "    }\n",
              "\n",
              "    .dataframe tbody tr th {\n",
              "        vertical-align: top;\n",
              "    }\n",
              "\n",
              "    .dataframe thead th {\n",
              "        text-align: right;\n",
              "    }\n",
              "</style>\n",
              "<table border=\"1\" class=\"dataframe\">\n",
              "  <thead>\n",
              "    <tr style=\"text-align: right;\">\n",
              "      <th></th>\n",
              "      <th>Day of the year</th>\n",
              "      <th>Altitude</th>\n",
              "      <th>Latitude</th>\n",
              "      <th>Longitude</th>\n",
              "      <th>max_temp</th>\n",
              "      <th>min_temp</th>\n",
              "      <th>rainfall</th>\n",
              "      <th>min_RH</th>\n",
              "      <th>max_RH</th>\n",
              "      <th>min_wind_speed</th>\n",
              "      <th>max_wind_speed</th>\n",
              "      <th>evaporation</th>\n",
              "      <th>sunshine hours</th>\n",
              "    </tr>\n",
              "  </thead>\n",
              "  <tbody>\n",
              "    <tr>\n",
              "      <th>0</th>\n",
              "      <td>2018-01-01</td>\n",
              "      <td>53</td>\n",
              "      <td>22°34'</td>\n",
              "      <td>87°23'</td>\n",
              "      <td>NaN</td>\n",
              "      <td>NaN</td>\n",
              "      <td>NaN</td>\n",
              "      <td>NaN</td>\n",
              "      <td>NaN</td>\n",
              "      <td>NaN</td>\n",
              "      <td>NaN</td>\n",
              "      <td>NaN</td>\n",
              "      <td>NaN</td>\n",
              "    </tr>\n",
              "    <tr>\n",
              "      <th>1</th>\n",
              "      <td>2018-01-02</td>\n",
              "      <td>53</td>\n",
              "      <td>22°34'</td>\n",
              "      <td>87°23'</td>\n",
              "      <td>NaN</td>\n",
              "      <td>NaN</td>\n",
              "      <td>NaN</td>\n",
              "      <td>NaN</td>\n",
              "      <td>NaN</td>\n",
              "      <td>NaN</td>\n",
              "      <td>NaN</td>\n",
              "      <td>NaN</td>\n",
              "      <td>NaN</td>\n",
              "    </tr>\n",
              "    <tr>\n",
              "      <th>2</th>\n",
              "      <td>2018-01-03</td>\n",
              "      <td>53</td>\n",
              "      <td>22°34'</td>\n",
              "      <td>87°23'</td>\n",
              "      <td>NaN</td>\n",
              "      <td>NaN</td>\n",
              "      <td>NaN</td>\n",
              "      <td>NaN</td>\n",
              "      <td>NaN</td>\n",
              "      <td>NaN</td>\n",
              "      <td>NaN</td>\n",
              "      <td>NaN</td>\n",
              "      <td>NaN</td>\n",
              "    </tr>\n",
              "    <tr>\n",
              "      <th>3</th>\n",
              "      <td>2018-01-04</td>\n",
              "      <td>53</td>\n",
              "      <td>22°34'</td>\n",
              "      <td>87°23'</td>\n",
              "      <td>NaN</td>\n",
              "      <td>NaN</td>\n",
              "      <td>NaN</td>\n",
              "      <td>NaN</td>\n",
              "      <td>NaN</td>\n",
              "      <td>NaN</td>\n",
              "      <td>NaN</td>\n",
              "      <td>NaN</td>\n",
              "      <td>NaN</td>\n",
              "    </tr>\n",
              "    <tr>\n",
              "      <th>4</th>\n",
              "      <td>2018-01-05</td>\n",
              "      <td>53</td>\n",
              "      <td>22°34'</td>\n",
              "      <td>87°23'</td>\n",
              "      <td>NaN</td>\n",
              "      <td>NaN</td>\n",
              "      <td>NaN</td>\n",
              "      <td>NaN</td>\n",
              "      <td>NaN</td>\n",
              "      <td>NaN</td>\n",
              "      <td>NaN</td>\n",
              "      <td>NaN</td>\n",
              "      <td>NaN</td>\n",
              "    </tr>\n",
              "  </tbody>\n",
              "</table>\n",
              "</div>"
            ],
            "text/plain": [
              "  Day of the year  Altitude Latitude Longitude  max_temp  min_temp  rainfall  \\\n",
              "0      2018-01-01        53   22°34'    87°23'       NaN       NaN       NaN   \n",
              "1      2018-01-02        53   22°34'    87°23'       NaN       NaN       NaN   \n",
              "2      2018-01-03        53   22°34'    87°23'       NaN       NaN       NaN   \n",
              "3      2018-01-04        53   22°34'    87°23'       NaN       NaN       NaN   \n",
              "4      2018-01-05        53   22°34'    87°23'       NaN       NaN       NaN   \n",
              "\n",
              "   min_RH  max_RH  min_wind_speed  max_wind_speed  evaporation  sunshine hours  \n",
              "0     NaN     NaN             NaN             NaN          NaN             NaN  \n",
              "1     NaN     NaN             NaN             NaN          NaN             NaN  \n",
              "2     NaN     NaN             NaN             NaN          NaN             NaN  \n",
              "3     NaN     NaN             NaN             NaN          NaN             NaN  \n",
              "4     NaN     NaN             NaN             NaN          NaN             NaN  "
            ]
          },
          "execution_count": 5,
          "metadata": {},
          "output_type": "execute_result"
        }
      ],
      "source": [
        "df.head()"
      ]
    },
    {
      "cell_type": "code",
      "execution_count": 6,
      "id": "c9a210b7",
      "metadata": {
        "id": "c9a210b7"
      },
      "outputs": [],
      "source": [
        "def convert_to_radians(angle):\n",
        "    angle = str(angle)  # Convert angle to string\n",
        "    parts = angle.split('°')\n",
        "    degrees = int(parts[0])\n",
        "    minutes = int(parts[1].rstrip('\\''))\n",
        "    total_minutes = degrees * 60 + minutes\n",
        "    radians = math.radians(total_minutes / 60)\n",
        "    return radians"
      ]
    },
    {
      "cell_type": "code",
      "execution_count": 7,
      "id": "09810785",
      "metadata": {
        "id": "09810785"
      },
      "outputs": [],
      "source": [
        "df['Latitude'] = df['Latitude'].apply(convert_to_radians)\n",
        "df['Longitude'] = df['Longitude'].apply(convert_to_radians)"
      ]
    },
    {
      "cell_type": "code",
      "execution_count": 8,
      "id": "cf06cbbb",
      "metadata": {
        "id": "cf06cbbb"
      },
      "outputs": [],
      "source": [
        "cols = []\n",
        "for i in range(len(df.columns)):\n",
        "    if(df.dtypes[i]!='<M8[ns]'):\n",
        "        cols.append(df.columns[i])"
      ]
    },
    {
      "cell_type": "code",
      "execution_count": 9,
      "id": "df843645",
      "metadata": {
        "id": "df843645"
      },
      "outputs": [],
      "source": [
        "for col in cols:\n",
        "    df[col] = df[col].astype(float)"
      ]
    },
    {
      "cell_type": "code",
      "execution_count": 10,
      "id": "0e160450",
      "metadata": {
        "id": "0e160450"
      },
      "outputs": [],
      "source": [
        "df1 = df.dropna()"
      ]
    },
    {
      "cell_type": "code",
      "execution_count": 11,
      "id": "c60240f9",
      "metadata": {
        "colab": {
          "base_uri": "https://localhost:8080/",
          "height": 206
        },
        "id": "c60240f9",
        "outputId": "712376cf-f28e-47d1-b7e3-dc0431b9d662"
      },
      "outputs": [
        {
          "data": {
            "text/html": [
              "<div>\n",
              "<style scoped>\n",
              "    .dataframe tbody tr th:only-of-type {\n",
              "        vertical-align: middle;\n",
              "    }\n",
              "\n",
              "    .dataframe tbody tr th {\n",
              "        vertical-align: top;\n",
              "    }\n",
              "\n",
              "    .dataframe thead th {\n",
              "        text-align: right;\n",
              "    }\n",
              "</style>\n",
              "<table border=\"1\" class=\"dataframe\">\n",
              "  <thead>\n",
              "    <tr style=\"text-align: right;\">\n",
              "      <th></th>\n",
              "      <th>Day of the year</th>\n",
              "      <th>Altitude</th>\n",
              "      <th>Latitude</th>\n",
              "      <th>Longitude</th>\n",
              "      <th>max_temp</th>\n",
              "      <th>min_temp</th>\n",
              "      <th>rainfall</th>\n",
              "      <th>min_RH</th>\n",
              "      <th>max_RH</th>\n",
              "      <th>min_wind_speed</th>\n",
              "      <th>max_wind_speed</th>\n",
              "      <th>evaporation</th>\n",
              "      <th>sunshine hours</th>\n",
              "    </tr>\n",
              "  </thead>\n",
              "  <tbody>\n",
              "    <tr>\n",
              "      <th>423</th>\n",
              "      <td>2019-02-28</td>\n",
              "      <td>53.0</td>\n",
              "      <td>0.393863</td>\n",
              "      <td>1.525127</td>\n",
              "      <td>25.2</td>\n",
              "      <td>17.2</td>\n",
              "      <td>2.0</td>\n",
              "      <td>96.0</td>\n",
              "      <td>96.0</td>\n",
              "      <td>6.0</td>\n",
              "      <td>6.0</td>\n",
              "      <td>2.0</td>\n",
              "      <td>5.20</td>\n",
              "    </tr>\n",
              "    <tr>\n",
              "      <th>424</th>\n",
              "      <td>2019-03-01</td>\n",
              "      <td>53.0</td>\n",
              "      <td>0.393863</td>\n",
              "      <td>1.525127</td>\n",
              "      <td>25.0</td>\n",
              "      <td>16.4</td>\n",
              "      <td>0.0</td>\n",
              "      <td>73.0</td>\n",
              "      <td>73.0</td>\n",
              "      <td>6.0</td>\n",
              "      <td>6.0</td>\n",
              "      <td>2.5</td>\n",
              "      <td>8.00</td>\n",
              "    </tr>\n",
              "    <tr>\n",
              "      <th>425</th>\n",
              "      <td>2019-03-02</td>\n",
              "      <td>53.0</td>\n",
              "      <td>0.393863</td>\n",
              "      <td>1.525127</td>\n",
              "      <td>26.7</td>\n",
              "      <td>15.5</td>\n",
              "      <td>0.0</td>\n",
              "      <td>71.0</td>\n",
              "      <td>71.0</td>\n",
              "      <td>4.0</td>\n",
              "      <td>4.0</td>\n",
              "      <td>2.6</td>\n",
              "      <td>7.00</td>\n",
              "    </tr>\n",
              "    <tr>\n",
              "      <th>427</th>\n",
              "      <td>2019-03-04</td>\n",
              "      <td>53.0</td>\n",
              "      <td>0.393863</td>\n",
              "      <td>1.525127</td>\n",
              "      <td>29.2</td>\n",
              "      <td>16.2</td>\n",
              "      <td>2.2</td>\n",
              "      <td>84.0</td>\n",
              "      <td>84.0</td>\n",
              "      <td>2.0</td>\n",
              "      <td>2.0</td>\n",
              "      <td>2.1</td>\n",
              "      <td>0.00</td>\n",
              "    </tr>\n",
              "    <tr>\n",
              "      <th>428</th>\n",
              "      <td>2019-03-05</td>\n",
              "      <td>53.0</td>\n",
              "      <td>0.393863</td>\n",
              "      <td>1.525127</td>\n",
              "      <td>29.0</td>\n",
              "      <td>19.4</td>\n",
              "      <td>0.0</td>\n",
              "      <td>96.0</td>\n",
              "      <td>96.0</td>\n",
              "      <td>2.0</td>\n",
              "      <td>2.0</td>\n",
              "      <td>2.0</td>\n",
              "      <td>5.45</td>\n",
              "    </tr>\n",
              "  </tbody>\n",
              "</table>\n",
              "</div>"
            ],
            "text/plain": [
              "    Day of the year  Altitude  Latitude  Longitude  max_temp  min_temp  \\\n",
              "423      2019-02-28      53.0  0.393863   1.525127      25.2      17.2   \n",
              "424      2019-03-01      53.0  0.393863   1.525127      25.0      16.4   \n",
              "425      2019-03-02      53.0  0.393863   1.525127      26.7      15.5   \n",
              "427      2019-03-04      53.0  0.393863   1.525127      29.2      16.2   \n",
              "428      2019-03-05      53.0  0.393863   1.525127      29.0      19.4   \n",
              "\n",
              "     rainfall  min_RH  max_RH  min_wind_speed  max_wind_speed  evaporation  \\\n",
              "423       2.0    96.0    96.0             6.0             6.0          2.0   \n",
              "424       0.0    73.0    73.0             6.0             6.0          2.5   \n",
              "425       0.0    71.0    71.0             4.0             4.0          2.6   \n",
              "427       2.2    84.0    84.0             2.0             2.0          2.1   \n",
              "428       0.0    96.0    96.0             2.0             2.0          2.0   \n",
              "\n",
              "     sunshine hours  \n",
              "423            5.20  \n",
              "424            8.00  \n",
              "425            7.00  \n",
              "427            0.00  \n",
              "428            5.45  "
            ]
          },
          "execution_count": 11,
          "metadata": {},
          "output_type": "execute_result"
        }
      ],
      "source": [
        "df1.head()"
      ]
    },
    {
      "cell_type": "code",
      "execution_count": 12,
      "id": "de720369",
      "metadata": {
        "id": "de720369"
      },
      "outputs": [],
      "source": [
        "df1['wind_speed'] = df1[['min_wind_speed', 'max_wind_speed']].mean(axis=1)\n",
        "df1['mean_temp'] = df1[['min_temp', 'max_temp']].mean(axis=1)"
      ]
    },
    {
      "cell_type": "code",
      "execution_count": 13,
      "id": "f76e77d2",
      "metadata": {},
      "outputs": [],
      "source": [
        "df1['mean_RH'] = df1[['min_RH', 'max_RH']].mean(axis=1)"
      ]
    },
    {
      "cell_type": "code",
      "execution_count": 14,
      "id": "b22ce0f0",
      "metadata": {
        "id": "b22ce0f0"
      },
      "outputs": [],
      "source": [
        "df1['max_DPT'] = (4030 * (235 + df1['max_temp']) / (4030 - ((df1['max_temp'] + 235) * np.log(df1['max_RH'] / 100)))) - 235\n",
        "df1['min_DPT'] = (4030 * (235 + df1['min_temp']) / (4030 - ((df1['min_temp'] + 235) * np.log(df1['min_RH'] / 100)))) - 235\n",
        "df1['mean_DPT'] = df1[['max_DPT', 'min_DPT']].mean(axis=1)"
      ]
    },
    {
      "cell_type": "code",
      "execution_count": 15,
      "id": "dc2df629",
      "metadata": {
        "id": "dc2df629"
      },
      "outputs": [],
      "source": [
        "df1['Julian Day'] = df1['Day of the year'].dt.dayofyear"
      ]
    },
    {
      "cell_type": "code",
      "execution_count": 16,
      "id": "0b3d9381",
      "metadata": {
        "id": "0b3d9381"
      },
      "outputs": [],
      "source": [
        "#Constants\n",
        "lambdaa = 2.45                                                                                                      #Latent Heat of Vapourization\n",
        "alpha = 0.23                                                                                                        #Albedo / Crop Canopy Coefficient\n",
        "sigma = 4.903e-9                                                                                                    #Stefan-Bolzmann Constant\n",
        "Gsc = 0.082                                                                                                         #Solar Constant"
      ]
    },
    {
      "cell_type": "code",
      "execution_count": 17,
      "id": "880e1240",
      "metadata": {
        "id": "880e1240"
      },
      "outputs": [],
      "source": [
        "import math\n",
        "PI = math.pi\n",
        "df1['solar_dec'] = 0.409 * np.sin((2 * PI * df1['Julian Day']/ 365) - 1.39)\n",
        "df1['dr'] = 1 + 0.033 * np.cos(2 * PI * df1['Julian Day'] / 365)\n",
        "df1['ws'] = np.arccos(-np.tan(df1['Latitude']) * np.tan(df1['solar_dec']))\n",
        "df1['N'] = 24 * df1['ws'] / PI\n",
        "df1['sinx'] = (df1['ws'] * np.sin(df1['Latitude']) * np.sin(df1['solar_dec'])) + (np.cos(df1['Latitude']) * np.cos(df1['solar_dec']))\n",
        "df1['Ra'] = 24 * 60 * Gsc * df1['dr'] * df1['sinx'] / PI\n",
        "df1['Rs'] = (0.25 + (0.5 * (df1['sunshine hours'] / df1['N']))) * df1['Ra']\n",
        "df1['Rso'] = (0.75 + (2e-5 * df1['Altitude'])) * df1['Ra']\n",
        "df1['f '] = (1.35 * df1['Rs'] / df1['Rso']) - 0.35\n",
        "df1['ea'] = 0.6108 * (np.exp(17.27 * df1['mean_DPT'] / (df1['mean_DPT'] + 237.3)))\n",
        "df1['es'] = 0.6108 * (np.exp(17.27 * df1['mean_temp'] / (df1['mean_temp'] + 237.3)))\n",
        "df1['epsilon'] = 0.34 - (0.14 * np.sqrt(df1['ea']))\n",
        "df1['delta'] = 4098 * df1['es'] / (df1['mean_temp'] + 237.3) ** 2\n",
        "df1['Bp'] = 101.3 * ((1 - (0.0000221843 *df1['Altitude'])) ** 5.6)\n",
        "df1['gamma'] = 0.00163*df1['Bp']/lambdaa\n",
        "df1['Rns'] = (1-alpha)*df1['Rs']\n",
        "df1['Rnl'] = df1['f ']*df1['epsilon']*sigma*(df1['mean_temp'] + 273.15)**4\n",
        "df1['Solar Radiation'] = df1['Rns'] - df1['Rnl']\n",
        "G = 0\n",
        "df1['numerator'] = 0.408*df1['delta']*(df1['Solar Radiation']-G) + df1['gamma']*df1['wind_speed']*900*(df1['es']-df1['ea'])/(df1['mean_temp']+273)\n",
        "df1['denominator'] = df1['delta'] + df1['gamma']*(1+(0.34*df1['wind_speed']))\n",
        "df1['ETo'] = df1['numerator']/df1['denominator']"
      ]
    },
    {
      "cell_type": "code",
      "execution_count": 18,
      "id": "woY6uGRJyFRh",
      "metadata": {
        "colab": {
          "base_uri": "https://localhost:8080/"
        },
        "id": "woY6uGRJyFRh",
        "outputId": "dff1935c-65d3-49a5-acda-408092ed5055"
      },
      "outputs": [
        {
          "data": {
            "text/plain": [
              "Index(['Day of the year', 'Altitude', 'Latitude', 'Longitude', 'max_temp',\n",
              "       'min_temp', 'rainfall', 'min_RH', 'max_RH', 'min_wind_speed',\n",
              "       'max_wind_speed', 'evaporation', 'sunshine hours', 'wind_speed',\n",
              "       'mean_temp', 'mean_RH', 'max_DPT', 'min_DPT', 'mean_DPT', 'Julian Day',\n",
              "       'solar_dec', 'dr', 'ws', 'N', 'sinx', 'Ra', 'Rs', 'Rso', 'f ', 'ea',\n",
              "       'es', 'epsilon', 'delta', 'Bp', 'gamma', 'Rns', 'Rnl',\n",
              "       'Solar Radiation', 'numerator', 'denominator', 'ETo'],\n",
              "      dtype='object')"
            ]
          },
          "execution_count": 18,
          "metadata": {},
          "output_type": "execute_result"
        }
      ],
      "source": [
        "df1.columns"
      ]
    },
    {
      "cell_type": "code",
      "execution_count": 22,
      "id": "5RDXA-gnTZKl",
      "metadata": {
        "id": "5RDXA-gnTZKl"
      },
      "outputs": [],
      "source": [
        "df2 = df1[['max_temp', 'min_temp', 'mean_temp', 'max_RH', 'min_RH', 'mean_RH',\n",
        "       'max_DPT', 'min_DPT', 'mean_DPT', 'wind_speed', 'rainfall',\n",
        "       'sunshine hours', 'Solar Radiation','ETo']]"
      ]
    },
    {
      "cell_type": "code",
      "execution_count": 23,
      "id": "I0dKBZaIXwwo",
      "metadata": {
        "colab": {
          "base_uri": "https://localhost:8080/",
          "height": 206
        },
        "id": "I0dKBZaIXwwo",
        "outputId": "24095225-50b0-4214-ba75-387384dd0535"
      },
      "outputs": [
        {
          "data": {
            "text/html": [
              "<div>\n",
              "<style scoped>\n",
              "    .dataframe tbody tr th:only-of-type {\n",
              "        vertical-align: middle;\n",
              "    }\n",
              "\n",
              "    .dataframe tbody tr th {\n",
              "        vertical-align: top;\n",
              "    }\n",
              "\n",
              "    .dataframe thead th {\n",
              "        text-align: right;\n",
              "    }\n",
              "</style>\n",
              "<table border=\"1\" class=\"dataframe\">\n",
              "  <thead>\n",
              "    <tr style=\"text-align: right;\">\n",
              "      <th></th>\n",
              "      <th>max_temp</th>\n",
              "      <th>min_temp</th>\n",
              "      <th>mean_temp</th>\n",
              "      <th>max_RH</th>\n",
              "      <th>min_RH</th>\n",
              "      <th>mean_RH</th>\n",
              "      <th>max_DPT</th>\n",
              "      <th>min_DPT</th>\n",
              "      <th>mean_DPT</th>\n",
              "      <th>wind_speed</th>\n",
              "      <th>rainfall</th>\n",
              "      <th>sunshine hours</th>\n",
              "      <th>Solar Radiation</th>\n",
              "      <th>ETo</th>\n",
              "    </tr>\n",
              "  </thead>\n",
              "  <tbody>\n",
              "    <tr>\n",
              "      <th>423</th>\n",
              "      <td>25.2</td>\n",
              "      <td>17.2</td>\n",
              "      <td>21.2</td>\n",
              "      <td>96.0</td>\n",
              "      <td>96.0</td>\n",
              "      <td>96.0</td>\n",
              "      <td>24.515993</td>\n",
              "      <td>16.557355</td>\n",
              "      <td>20.536674</td>\n",
              "      <td>6.0</td>\n",
              "      <td>2.0</td>\n",
              "      <td>5.20</td>\n",
              "      <td>9.307349</td>\n",
              "      <td>1.983537</td>\n",
              "    </tr>\n",
              "    <tr>\n",
              "      <th>424</th>\n",
              "      <td>25.0</td>\n",
              "      <td>16.4</td>\n",
              "      <td>20.7</td>\n",
              "      <td>73.0</td>\n",
              "      <td>73.0</td>\n",
              "      <td>73.0</td>\n",
              "      <td>19.826033</td>\n",
              "      <td>11.559464</td>\n",
              "      <td>15.692748</td>\n",
              "      <td>6.0</td>\n",
              "      <td>0.0</td>\n",
              "      <td>8.00</td>\n",
              "      <td>10.554828</td>\n",
              "      <td>4.120637</td>\n",
              "    </tr>\n",
              "    <tr>\n",
              "      <th>425</th>\n",
              "      <td>26.7</td>\n",
              "      <td>15.5</td>\n",
              "      <td>21.1</td>\n",
              "      <td>71.0</td>\n",
              "      <td>71.0</td>\n",
              "      <td>71.0</td>\n",
              "      <td>21.006261</td>\n",
              "      <td>10.278321</td>\n",
              "      <td>15.642291</td>\n",
              "      <td>4.0</td>\n",
              "      <td>0.0</td>\n",
              "      <td>7.00</td>\n",
              "      <td>9.962412</td>\n",
              "      <td>3.910805</td>\n",
              "    </tr>\n",
              "    <tr>\n",
              "      <th>427</th>\n",
              "      <td>29.2</td>\n",
              "      <td>16.2</td>\n",
              "      <td>22.7</td>\n",
              "      <td>84.0</td>\n",
              "      <td>84.0</td>\n",
              "      <td>84.0</td>\n",
              "      <td>26.214239</td>\n",
              "      <td>13.499338</td>\n",
              "      <td>19.856789</td>\n",
              "      <td>2.0</td>\n",
              "      <td>2.2</td>\n",
              "      <td>0.00</td>\n",
              "      <td>5.733939</td>\n",
              "      <td>2.041599</td>\n",
              "    </tr>\n",
              "    <tr>\n",
              "      <th>428</th>\n",
              "      <td>29.0</td>\n",
              "      <td>19.4</td>\n",
              "      <td>24.2</td>\n",
              "      <td>96.0</td>\n",
              "      <td>96.0</td>\n",
              "      <td>96.0</td>\n",
              "      <td>28.295895</td>\n",
              "      <td>18.746109</td>\n",
              "      <td>23.521002</td>\n",
              "      <td>2.0</td>\n",
              "      <td>0.0</td>\n",
              "      <td>5.45</td>\n",
              "      <td>10.056357</td>\n",
              "      <td>2.697164</td>\n",
              "    </tr>\n",
              "  </tbody>\n",
              "</table>\n",
              "</div>"
            ],
            "text/plain": [
              "     max_temp  min_temp  mean_temp  max_RH  min_RH  mean_RH    max_DPT  \\\n",
              "423      25.2      17.2       21.2    96.0    96.0     96.0  24.515993   \n",
              "424      25.0      16.4       20.7    73.0    73.0     73.0  19.826033   \n",
              "425      26.7      15.5       21.1    71.0    71.0     71.0  21.006261   \n",
              "427      29.2      16.2       22.7    84.0    84.0     84.0  26.214239   \n",
              "428      29.0      19.4       24.2    96.0    96.0     96.0  28.295895   \n",
              "\n",
              "       min_DPT   mean_DPT  wind_speed  rainfall  sunshine hours  \\\n",
              "423  16.557355  20.536674         6.0       2.0            5.20   \n",
              "424  11.559464  15.692748         6.0       0.0            8.00   \n",
              "425  10.278321  15.642291         4.0       0.0            7.00   \n",
              "427  13.499338  19.856789         2.0       2.2            0.00   \n",
              "428  18.746109  23.521002         2.0       0.0            5.45   \n",
              "\n",
              "     Solar Radiation       ETo  \n",
              "423         9.307349  1.983537  \n",
              "424        10.554828  4.120637  \n",
              "425         9.962412  3.910805  \n",
              "427         5.733939  2.041599  \n",
              "428        10.056357  2.697164  "
            ]
          },
          "execution_count": 23,
          "metadata": {},
          "output_type": "execute_result"
        }
      ],
      "source": [
        "df2.head()"
      ]
    },
    {
      "cell_type": "code",
      "execution_count": 21,
      "id": "8cd27152",
      "metadata": {},
      "outputs": [
        {
          "data": {
            "text/plain": [
              "Index(['max_temp', 'min_temp', 'mean_temp', 'max_RH', 'min_RH', 'mean_RH',\n",
              "       'max_DPT', 'min_DPT', 'mean_DPT', 'wind_speed', 'rainfall',\n",
              "       'sunshine hours', 'evaporation', 'Solar Radiation', 'ETo'],\n",
              "      dtype='object')"
            ]
          },
          "execution_count": 21,
          "metadata": {},
          "output_type": "execute_result"
        }
      ],
      "source": [
        "df2.columns"
      ]
    },
    {
      "cell_type": "code",
      "execution_count": 91,
      "id": "VHtLSSNWZKpn",
      "metadata": {
        "colab": {
          "base_uri": "https://localhost:8080/"
        },
        "id": "VHtLSSNWZKpn",
        "outputId": "23d71715-cd5d-4cff-bf74-7889015d5799"
      },
      "outputs": [
        {
          "data": {
            "text/plain": [
              "(1150, 15)"
            ]
          },
          "execution_count": 91,
          "metadata": {},
          "output_type": "execute_result"
        }
      ],
      "source": [
        "df2.shape"
      ]
    },
    {
      "cell_type": "code",
      "execution_count": 24,
      "id": "NZppXno8b4s8",
      "metadata": {
        "id": "NZppXno8b4s8"
      },
      "outputs": [],
      "source": [
        "x = df2.drop(['ETo'],axis=1)\n",
        "y = df2.ETo"
      ]
    },
    {
      "cell_type": "code",
      "execution_count": 25,
      "id": "67f6bc64",
      "metadata": {},
      "outputs": [
        {
          "data": {
            "text/html": [
              "<div>\n",
              "<style scoped>\n",
              "    .dataframe tbody tr th:only-of-type {\n",
              "        vertical-align: middle;\n",
              "    }\n",
              "\n",
              "    .dataframe tbody tr th {\n",
              "        vertical-align: top;\n",
              "    }\n",
              "\n",
              "    .dataframe thead th {\n",
              "        text-align: right;\n",
              "    }\n",
              "</style>\n",
              "<table border=\"1\" class=\"dataframe\">\n",
              "  <thead>\n",
              "    <tr style=\"text-align: right;\">\n",
              "      <th></th>\n",
              "      <th>max_temp</th>\n",
              "      <th>min_temp</th>\n",
              "      <th>mean_temp</th>\n",
              "      <th>max_RH</th>\n",
              "      <th>min_RH</th>\n",
              "      <th>mean_RH</th>\n",
              "      <th>max_DPT</th>\n",
              "      <th>min_DPT</th>\n",
              "      <th>mean_DPT</th>\n",
              "      <th>wind_speed</th>\n",
              "      <th>rainfall</th>\n",
              "      <th>sunshine hours</th>\n",
              "      <th>Solar Radiation</th>\n",
              "    </tr>\n",
              "  </thead>\n",
              "  <tbody>\n",
              "    <tr>\n",
              "      <th>count</th>\n",
              "      <td>1150.000000</td>\n",
              "      <td>1150.000000</td>\n",
              "      <td>1150.000000</td>\n",
              "      <td>1150.000000</td>\n",
              "      <td>1150.000000</td>\n",
              "      <td>1150.000000</td>\n",
              "      <td>1150.000000</td>\n",
              "      <td>1150.000000</td>\n",
              "      <td>1150.000000</td>\n",
              "      <td>1150.000000</td>\n",
              "      <td>1150.000000</td>\n",
              "      <td>1150.000000</td>\n",
              "      <td>1150.000000</td>\n",
              "    </tr>\n",
              "    <tr>\n",
              "      <th>mean</th>\n",
              "      <td>31.115739</td>\n",
              "      <td>19.928348</td>\n",
              "      <td>25.522043</td>\n",
              "      <td>67.005270</td>\n",
              "      <td>74.222148</td>\n",
              "      <td>70.613709</td>\n",
              "      <td>23.836470</td>\n",
              "      <td>14.848053</td>\n",
              "      <td>19.342261</td>\n",
              "      <td>4.763261</td>\n",
              "      <td>4.219913</td>\n",
              "      <td>5.308783</td>\n",
              "      <td>9.185085</td>\n",
              "    </tr>\n",
              "    <tr>\n",
              "      <th>std</th>\n",
              "      <td>3.938839</td>\n",
              "      <td>5.226034</td>\n",
              "      <td>4.277548</td>\n",
              "      <td>15.130778</td>\n",
              "      <td>15.463473</td>\n",
              "      <td>13.398430</td>\n",
              "      <td>5.376605</td>\n",
              "      <td>7.629846</td>\n",
              "      <td>6.104118</td>\n",
              "      <td>1.838847</td>\n",
              "      <td>15.027228</td>\n",
              "      <td>3.137724</td>\n",
              "      <td>2.933528</td>\n",
              "    </tr>\n",
              "    <tr>\n",
              "      <th>min</th>\n",
              "      <td>20.000000</td>\n",
              "      <td>6.400000</td>\n",
              "      <td>13.950000</td>\n",
              "      <td>4.000000</td>\n",
              "      <td>11.000000</td>\n",
              "      <td>30.450000</td>\n",
              "      <td>-17.110347</td>\n",
              "      <td>-19.064393</td>\n",
              "      <td>-4.727879</td>\n",
              "      <td>0.100000</td>\n",
              "      <td>0.000000</td>\n",
              "      <td>0.000000</td>\n",
              "      <td>4.002487</td>\n",
              "    </tr>\n",
              "    <tr>\n",
              "      <th>25%</th>\n",
              "      <td>28.500000</td>\n",
              "      <td>15.600000</td>\n",
              "      <td>22.012500</td>\n",
              "      <td>57.000000</td>\n",
              "      <td>66.000000</td>\n",
              "      <td>61.500000</td>\n",
              "      <td>19.682417</td>\n",
              "      <td>9.447534</td>\n",
              "      <td>14.595932</td>\n",
              "      <td>4.000000</td>\n",
              "      <td>0.000000</td>\n",
              "      <td>2.825000</td>\n",
              "      <td>6.933327</td>\n",
              "    </tr>\n",
              "    <tr>\n",
              "      <th>50%</th>\n",
              "      <td>31.500000</td>\n",
              "      <td>20.500000</td>\n",
              "      <td>26.525000</td>\n",
              "      <td>68.000000</td>\n",
              "      <td>77.000000</td>\n",
              "      <td>71.500000</td>\n",
              "      <td>24.679607</td>\n",
              "      <td>16.332344</td>\n",
              "      <td>19.933677</td>\n",
              "      <td>5.000000</td>\n",
              "      <td>0.000000</td>\n",
              "      <td>6.050000</td>\n",
              "      <td>8.764459</td>\n",
              "    </tr>\n",
              "    <tr>\n",
              "      <th>75%</th>\n",
              "      <td>34.000000</td>\n",
              "      <td>24.600000</td>\n",
              "      <td>29.050000</td>\n",
              "      <td>78.000000</td>\n",
              "      <td>84.000000</td>\n",
              "      <td>80.000000</td>\n",
              "      <td>28.420985</td>\n",
              "      <td>21.364292</td>\n",
              "      <td>24.784841</td>\n",
              "      <td>5.500000</td>\n",
              "      <td>0.600000</td>\n",
              "      <td>8.000000</td>\n",
              "      <td>11.285327</td>\n",
              "    </tr>\n",
              "    <tr>\n",
              "      <th>max</th>\n",
              "      <td>42.000000</td>\n",
              "      <td>28.000000</td>\n",
              "      <td>33.950000</td>\n",
              "      <td>100.000000</td>\n",
              "      <td>100.000000</td>\n",
              "      <td>100.000000</td>\n",
              "      <td>34.617867</td>\n",
              "      <td>27.478250</td>\n",
              "      <td>29.293761</td>\n",
              "      <td>30.500000</td>\n",
              "      <td>259.000000</td>\n",
              "      <td>11.500000</td>\n",
              "      <td>18.024855</td>\n",
              "    </tr>\n",
              "  </tbody>\n",
              "</table>\n",
              "</div>"
            ],
            "text/plain": [
              "          max_temp     min_temp    mean_temp       max_RH       min_RH  \\\n",
              "count  1150.000000  1150.000000  1150.000000  1150.000000  1150.000000   \n",
              "mean     31.115739    19.928348    25.522043    67.005270    74.222148   \n",
              "std       3.938839     5.226034     4.277548    15.130778    15.463473   \n",
              "min      20.000000     6.400000    13.950000     4.000000    11.000000   \n",
              "25%      28.500000    15.600000    22.012500    57.000000    66.000000   \n",
              "50%      31.500000    20.500000    26.525000    68.000000    77.000000   \n",
              "75%      34.000000    24.600000    29.050000    78.000000    84.000000   \n",
              "max      42.000000    28.000000    33.950000   100.000000   100.000000   \n",
              "\n",
              "           mean_RH      max_DPT      min_DPT     mean_DPT   wind_speed  \\\n",
              "count  1150.000000  1150.000000  1150.000000  1150.000000  1150.000000   \n",
              "mean     70.613709    23.836470    14.848053    19.342261     4.763261   \n",
              "std      13.398430     5.376605     7.629846     6.104118     1.838847   \n",
              "min      30.450000   -17.110347   -19.064393    -4.727879     0.100000   \n",
              "25%      61.500000    19.682417     9.447534    14.595932     4.000000   \n",
              "50%      71.500000    24.679607    16.332344    19.933677     5.000000   \n",
              "75%      80.000000    28.420985    21.364292    24.784841     5.500000   \n",
              "max     100.000000    34.617867    27.478250    29.293761    30.500000   \n",
              "\n",
              "          rainfall  sunshine hours  Solar Radiation  \n",
              "count  1150.000000     1150.000000      1150.000000  \n",
              "mean      4.219913        5.308783         9.185085  \n",
              "std      15.027228        3.137724         2.933528  \n",
              "min       0.000000        0.000000         4.002487  \n",
              "25%       0.000000        2.825000         6.933327  \n",
              "50%       0.000000        6.050000         8.764459  \n",
              "75%       0.600000        8.000000        11.285327  \n",
              "max     259.000000       11.500000        18.024855  "
            ]
          },
          "execution_count": 25,
          "metadata": {},
          "output_type": "execute_result"
        }
      ],
      "source": [
        "x.describe()"
      ]
    },
    {
      "cell_type": "code",
      "execution_count": 26,
      "id": "4d8ab37b",
      "metadata": {},
      "outputs": [],
      "source": [
        "from sklearn.preprocessing import StandardScaler\n",
        "scaler = StandardScaler()\n",
        "x_scaled = scaler.fit_transform(x)"
      ]
    },
    {
      "cell_type": "code",
      "execution_count": 27,
      "id": "0bf6dee2",
      "metadata": {},
      "outputs": [],
      "source": [
        "import os\n",
        "os.getcwd()\n",
        "#change the directory\n",
        "os.chdir('D:\\\\Users\\\\G S VASU\\\\Desktop\\\\Abhirama\\\\IIT Kharagpur\\\\Projects\\\\Irrigation Scheduling\\\\25 Stations Weather Data')"
      ]
    },
    {
      "cell_type": "code",
      "execution_count": 28,
      "id": "Zmfawb58Z3W5",
      "metadata": {
        "id": "Zmfawb58Z3W5"
      },
      "outputs": [],
      "source": [
        "import pickle\n",
        "with open('RF Model.pickle','rb') as f:\n",
        "  model = pickle.load(f)"
      ]
    },
    {
      "cell_type": "code",
      "execution_count": 29,
      "id": "56ae7148",
      "metadata": {},
      "outputs": [
        {
          "data": {
            "text/plain": [
              "0.5535397827554731"
            ]
          },
          "execution_count": 29,
          "metadata": {},
          "output_type": "execute_result"
        }
      ],
      "source": [
        "model.score(x_scaled,y)"
      ]
    },
    {
      "cell_type": "code",
      "execution_count": 30,
      "id": "7420f422",
      "metadata": {},
      "outputs": [],
      "source": [
        "import pickle\n",
        "with open('MLP_model.pickle','rb') as f:\n",
        "  mlp_model = pickle.load(f)"
      ]
    },
    {
      "cell_type": "code",
      "execution_count": 31,
      "id": "7e7c97ae",
      "metadata": {},
      "outputs": [
        {
          "data": {
            "text/plain": [
              "0.6173567861877327"
            ]
          },
          "execution_count": 31,
          "metadata": {},
          "output_type": "execute_result"
        }
      ],
      "source": [
        "mlp_model.score(x_scaled,y)"
      ]
    },
    {
      "cell_type": "code",
      "execution_count": 110,
      "id": "48dac8f1",
      "metadata": {},
      "outputs": [
        {
          "data": {
            "text/plain": [
              "0.6344149961807469"
            ]
          },
          "execution_count": 110,
          "metadata": {},
          "output_type": "execute_result"
        }
      ],
      "source": [
        "mlp_model.score(x_scaled,y)"
      ]
    },
    {
      "cell_type": "code",
      "execution_count": 111,
      "id": "0a7a7316",
      "metadata": {},
      "outputs": [
        {
          "data": {
            "text/plain": [
              "0.5451866386362365"
            ]
          },
          "execution_count": 111,
          "metadata": {},
          "output_type": "execute_result"
        }
      ],
      "source": [
        "model.score(x_scaled,y)"
      ]
    },
    {
      "cell_type": "code",
      "execution_count": 102,
      "id": "7f11ee44",
      "metadata": {},
      "outputs": [
        {
          "data": {
            "text/html": [
              "<style>#sk-container-id-3 {color: black;}#sk-container-id-3 pre{padding: 0;}#sk-container-id-3 div.sk-toggleable {background-color: white;}#sk-container-id-3 label.sk-toggleable__label {cursor: pointer;display: block;width: 100%;margin-bottom: 0;padding: 0.3em;box-sizing: border-box;text-align: center;}#sk-container-id-3 label.sk-toggleable__label-arrow:before {content: \"▸\";float: left;margin-right: 0.25em;color: #696969;}#sk-container-id-3 label.sk-toggleable__label-arrow:hover:before {color: black;}#sk-container-id-3 div.sk-estimator:hover label.sk-toggleable__label-arrow:before {color: black;}#sk-container-id-3 div.sk-toggleable__content {max-height: 0;max-width: 0;overflow: hidden;text-align: left;background-color: #f0f8ff;}#sk-container-id-3 div.sk-toggleable__content pre {margin: 0.2em;color: black;border-radius: 0.25em;background-color: #f0f8ff;}#sk-container-id-3 input.sk-toggleable__control:checked~div.sk-toggleable__content {max-height: 200px;max-width: 100%;overflow: auto;}#sk-container-id-3 input.sk-toggleable__control:checked~label.sk-toggleable__label-arrow:before {content: \"▾\";}#sk-container-id-3 div.sk-estimator input.sk-toggleable__control:checked~label.sk-toggleable__label {background-color: #d4ebff;}#sk-container-id-3 div.sk-label input.sk-toggleable__control:checked~label.sk-toggleable__label {background-color: #d4ebff;}#sk-container-id-3 input.sk-hidden--visually {border: 0;clip: rect(1px 1px 1px 1px);clip: rect(1px, 1px, 1px, 1px);height: 1px;margin: -1px;overflow: hidden;padding: 0;position: absolute;width: 1px;}#sk-container-id-3 div.sk-estimator {font-family: monospace;background-color: #f0f8ff;border: 1px dotted black;border-radius: 0.25em;box-sizing: border-box;margin-bottom: 0.5em;}#sk-container-id-3 div.sk-estimator:hover {background-color: #d4ebff;}#sk-container-id-3 div.sk-parallel-item::after {content: \"\";width: 100%;border-bottom: 1px solid gray;flex-grow: 1;}#sk-container-id-3 div.sk-label:hover label.sk-toggleable__label {background-color: #d4ebff;}#sk-container-id-3 div.sk-serial::before {content: \"\";position: absolute;border-left: 1px solid gray;box-sizing: border-box;top: 0;bottom: 0;left: 50%;z-index: 0;}#sk-container-id-3 div.sk-serial {display: flex;flex-direction: column;align-items: center;background-color: white;padding-right: 0.2em;padding-left: 0.2em;position: relative;}#sk-container-id-3 div.sk-item {position: relative;z-index: 1;}#sk-container-id-3 div.sk-parallel {display: flex;align-items: stretch;justify-content: center;background-color: white;position: relative;}#sk-container-id-3 div.sk-item::before, #sk-container-id-3 div.sk-parallel-item::before {content: \"\";position: absolute;border-left: 1px solid gray;box-sizing: border-box;top: 0;bottom: 0;left: 50%;z-index: -1;}#sk-container-id-3 div.sk-parallel-item {display: flex;flex-direction: column;z-index: 1;position: relative;background-color: white;}#sk-container-id-3 div.sk-parallel-item:first-child::after {align-self: flex-end;width: 50%;}#sk-container-id-3 div.sk-parallel-item:last-child::after {align-self: flex-start;width: 50%;}#sk-container-id-3 div.sk-parallel-item:only-child::after {width: 0;}#sk-container-id-3 div.sk-dashed-wrapped {border: 1px dashed gray;margin: 0 0.4em 0.5em 0.4em;box-sizing: border-box;padding-bottom: 0.4em;background-color: white;}#sk-container-id-3 div.sk-label label {font-family: monospace;font-weight: bold;display: inline-block;line-height: 1.2em;}#sk-container-id-3 div.sk-label-container {text-align: center;}#sk-container-id-3 div.sk-container {/* jupyter's `normalize.less` sets `[hidden] { display: none; }` but bootstrap.min.css set `[hidden] { display: none !important; }` so we also need the `!important` here to be able to override the default hidden behavior on the sphinx rendered scikit-learn.org. See: https://github.com/scikit-learn/scikit-learn/issues/21755 */display: inline-block !important;position: relative;}#sk-container-id-3 div.sk-text-repr-fallback {display: none;}</style><div id=\"sk-container-id-3\" class=\"sk-top-container\"><div class=\"sk-text-repr-fallback\"><pre>RandomForestRegressor(bootstrap=False, max_depth=92, max_features=6,\n",
              "                      min_samples_leaf=2, n_estimators=201)</pre><b>In a Jupyter environment, please rerun this cell to show the HTML representation or trust the notebook. <br />On GitHub, the HTML representation is unable to render, please try loading this page with nbviewer.org.</b></div><div class=\"sk-container\" hidden><div class=\"sk-item\"><div class=\"sk-estimator sk-toggleable\"><input class=\"sk-toggleable__control sk-hidden--visually\" id=\"sk-estimator-id-3\" type=\"checkbox\" checked><label for=\"sk-estimator-id-3\" class=\"sk-toggleable__label sk-toggleable__label-arrow\">RandomForestRegressor</label><div class=\"sk-toggleable__content\"><pre>RandomForestRegressor(bootstrap=False, max_depth=92, max_features=6,\n",
              "                      min_samples_leaf=2, n_estimators=201)</pre></div></div></div></div></div>"
            ],
            "text/plain": [
              "RandomForestRegressor(bootstrap=False, max_depth=92, max_features=6,\n",
              "                      min_samples_leaf=2, n_estimators=201)"
            ]
          },
          "execution_count": 102,
          "metadata": {},
          "output_type": "execute_result"
        }
      ],
      "source": [
        "model"
      ]
    },
    {
      "cell_type": "code",
      "execution_count": 98,
      "id": "T-SqJ-rMbzw8",
      "metadata": {
        "colab": {
          "base_uri": "https://localhost:8080/"
        },
        "id": "T-SqJ-rMbzw8",
        "outputId": "d1104586-6758-4c17-fd74-75af04499286"
      },
      "outputs": [
        {
          "data": {
            "text/plain": [
              "0.5451866386362365"
            ]
          },
          "execution_count": 98,
          "metadata": {},
          "output_type": "execute_result"
        }
      ],
      "source": [
        "model.score(x_scaled,y)"
      ]
    },
    {
      "cell_type": "code",
      "execution_count": 43,
      "id": "Y0pArp9CZ2em",
      "metadata": {
        "id": "Y0pArp9CZ2em"
      },
      "outputs": [],
      "source": [
        "y_prediction = model.predict(x_scaled)"
      ]
    },
    {
      "cell_type": "code",
      "execution_count": 34,
      "id": "s_GujLkiDLAD",
      "metadata": {
        "colab": {
          "base_uri": "https://localhost:8080/",
          "height": 564
        },
        "id": "s_GujLkiDLAD",
        "outputId": "8172d9ad-9deb-456f-c7c5-be9a0f10b9c1"
      },
      "outputs": [
        {
          "data": {
            "image/png": "[encoded data removed]",
            "text/plain": [
              "<Figure size 800x600 with 1 Axes>"
            ]
          },
          "metadata": {},
          "output_type": "display_data"
        },
        {
          "data": {
            "image/png": "[encoded data removed]",
            "text/plain": [
              "<Figure size 800x600 with 1 Axes>"
            ]
          },
          "metadata": {},
          "output_type": "display_data"
        }
      ],
      "source": [
        "plt.figure(figsize=(8, 6))\n",
        "plt.scatter(y_prediction, y, color='blue', label='Ground Truth')\n",
        "plt.xlabel('Predicted Values')\n",
        "plt.ylabel('PM-56 Reference Evapotranspiration')\n",
        "plt.title('Comparison of Ground Truth and Predicted Values')\n",
        "plt.legend()\n",
        "plt.show()\n",
        "#plot the x and y axis values on the same scale\n",
        "plt.figure(figsize=(8, 6))\n",
        "plt.scatter(y_prediction, y_prediction, color='red', label='Predicted Values')\n",
        "plt.xlabel('Predicted Values')\n",
        "plt.ylabel('Predicted Values')\n",
        "plt.title('Comparison of Ground Truth and Predicted Values')\n",
        "plt.legend()\n",
        "plt.show() "
      ]
    },
    {
      "cell_type": "code",
      "execution_count": 44,
      "id": "407ff96a",
      "metadata": {},
      "outputs": [],
      "source": [
        "y_prediction = pd.DataFrame(y_prediction)"
      ]
    },
    {
      "cell_type": "code",
      "execution_count": 45,
      "id": "4ca255e0",
      "metadata": {},
      "outputs": [],
      "source": [
        "#append the predicted values to the original dataframe\n",
        "df2['ETo_predicted'] = y_prediction"
      ]
    },
    {
      "cell_type": "code",
      "execution_count": 46,
      "id": "9a17866b",
      "metadata": {},
      "outputs": [
        {
          "data": {
            "text/html": [
              "<div>\n",
              "<style scoped>\n",
              "    .dataframe tbody tr th:only-of-type {\n",
              "        vertical-align: middle;\n",
              "    }\n",
              "\n",
              "    .dataframe tbody tr th {\n",
              "        vertical-align: top;\n",
              "    }\n",
              "\n",
              "    .dataframe thead th {\n",
              "        text-align: right;\n",
              "    }\n",
              "</style>\n",
              "<table border=\"1\" class=\"dataframe\">\n",
              "  <thead>\n",
              "    <tr style=\"text-align: right;\">\n",
              "      <th></th>\n",
              "      <th>max_temp</th>\n",
              "      <th>min_temp</th>\n",
              "      <th>mean_temp</th>\n",
              "      <th>sunshine hours</th>\n",
              "      <th>evaporation</th>\n",
              "      <th>Solar Radiation</th>\n",
              "      <th>ETo</th>\n",
              "      <th>ETo_predicted</th>\n",
              "    </tr>\n",
              "  </thead>\n",
              "  <tbody>\n",
              "    <tr>\n",
              "      <th>423</th>\n",
              "      <td>25.2</td>\n",
              "      <td>17.2</td>\n",
              "      <td>21.20</td>\n",
              "      <td>5.20</td>\n",
              "      <td>2.0</td>\n",
              "      <td>9.307349</td>\n",
              "      <td>1.983537</td>\n",
              "      <td>6.2675</td>\n",
              "    </tr>\n",
              "    <tr>\n",
              "      <th>424</th>\n",
              "      <td>25.0</td>\n",
              "      <td>16.4</td>\n",
              "      <td>20.70</td>\n",
              "      <td>8.00</td>\n",
              "      <td>2.5</td>\n",
              "      <td>10.554828</td>\n",
              "      <td>4.120637</td>\n",
              "      <td>6.1154</td>\n",
              "    </tr>\n",
              "    <tr>\n",
              "      <th>425</th>\n",
              "      <td>26.7</td>\n",
              "      <td>15.5</td>\n",
              "      <td>21.10</td>\n",
              "      <td>7.00</td>\n",
              "      <td>2.6</td>\n",
              "      <td>9.962412</td>\n",
              "      <td>3.910805</td>\n",
              "      <td>6.1539</td>\n",
              "    </tr>\n",
              "    <tr>\n",
              "      <th>427</th>\n",
              "      <td>29.2</td>\n",
              "      <td>16.2</td>\n",
              "      <td>22.70</td>\n",
              "      <td>0.00</td>\n",
              "      <td>2.1</td>\n",
              "      <td>5.733939</td>\n",
              "      <td>2.041599</td>\n",
              "      <td>6.8051</td>\n",
              "    </tr>\n",
              "    <tr>\n",
              "      <th>428</th>\n",
              "      <td>29.0</td>\n",
              "      <td>19.4</td>\n",
              "      <td>24.20</td>\n",
              "      <td>5.45</td>\n",
              "      <td>2.0</td>\n",
              "      <td>10.056357</td>\n",
              "      <td>2.697164</td>\n",
              "      <td>6.3979</td>\n",
              "    </tr>\n",
              "    <tr>\n",
              "      <th>...</th>\n",
              "      <td>...</td>\n",
              "      <td>...</td>\n",
              "      <td>...</td>\n",
              "      <td>...</td>\n",
              "      <td>...</td>\n",
              "      <td>...</td>\n",
              "      <td>...</td>\n",
              "      <td>...</td>\n",
              "    </tr>\n",
              "    <tr>\n",
              "      <th>1920</th>\n",
              "      <td>35.8</td>\n",
              "      <td>21.5</td>\n",
              "      <td>28.65</td>\n",
              "      <td>8.20</td>\n",
              "      <td>8.0</td>\n",
              "      <td>12.317648</td>\n",
              "      <td>7.147996</td>\n",
              "      <td>NaN</td>\n",
              "    </tr>\n",
              "    <tr>\n",
              "      <th>1921</th>\n",
              "      <td>35.8</td>\n",
              "      <td>23.0</td>\n",
              "      <td>29.40</td>\n",
              "      <td>8.20</td>\n",
              "      <td>8.0</td>\n",
              "      <td>11.783705</td>\n",
              "      <td>8.604853</td>\n",
              "      <td>NaN</td>\n",
              "    </tr>\n",
              "    <tr>\n",
              "      <th>1922</th>\n",
              "      <td>36.2</td>\n",
              "      <td>24.0</td>\n",
              "      <td>30.10</td>\n",
              "      <td>7.80</td>\n",
              "      <td>6.0</td>\n",
              "      <td>12.134276</td>\n",
              "      <td>8.296334</td>\n",
              "      <td>NaN</td>\n",
              "    </tr>\n",
              "    <tr>\n",
              "      <th>1923</th>\n",
              "      <td>36.8</td>\n",
              "      <td>24.4</td>\n",
              "      <td>30.60</td>\n",
              "      <td>8.50</td>\n",
              "      <td>6.0</td>\n",
              "      <td>13.274949</td>\n",
              "      <td>7.819316</td>\n",
              "      <td>NaN</td>\n",
              "    </tr>\n",
              "    <tr>\n",
              "      <th>1924</th>\n",
              "      <td>36.5</td>\n",
              "      <td>24.4</td>\n",
              "      <td>30.45</td>\n",
              "      <td>8.40</td>\n",
              "      <td>4.0</td>\n",
              "      <td>13.437018</td>\n",
              "      <td>7.065413</td>\n",
              "      <td>NaN</td>\n",
              "    </tr>\n",
              "  </tbody>\n",
              "</table>\n",
              "<p>1150 rows × 8 columns</p>\n",
              "</div>"
            ],
            "text/plain": [
              "      max_temp  min_temp  mean_temp  sunshine hours  evaporation  \\\n",
              "423       25.2      17.2      21.20            5.20          2.0   \n",
              "424       25.0      16.4      20.70            8.00          2.5   \n",
              "425       26.7      15.5      21.10            7.00          2.6   \n",
              "427       29.2      16.2      22.70            0.00          2.1   \n",
              "428       29.0      19.4      24.20            5.45          2.0   \n",
              "...        ...       ...        ...             ...          ...   \n",
              "1920      35.8      21.5      28.65            8.20          8.0   \n",
              "1921      35.8      23.0      29.40            8.20          8.0   \n",
              "1922      36.2      24.0      30.10            7.80          6.0   \n",
              "1923      36.8      24.4      30.60            8.50          6.0   \n",
              "1924      36.5      24.4      30.45            8.40          4.0   \n",
              "\n",
              "      Solar Radiation       ETo  ETo_predicted  \n",
              "423          9.307349  1.983537         6.2675  \n",
              "424         10.554828  4.120637         6.1154  \n",
              "425          9.962412  3.910805         6.1539  \n",
              "427          5.733939  2.041599         6.8051  \n",
              "428         10.056357  2.697164         6.3979  \n",
              "...               ...       ...            ...  \n",
              "1920        12.317648  7.147996            NaN  \n",
              "1921        11.783705  8.604853            NaN  \n",
              "1922        12.134276  8.296334            NaN  \n",
              "1923        13.274949  7.819316            NaN  \n",
              "1924        13.437018  7.065413            NaN  \n",
              "\n",
              "[1150 rows x 8 columns]"
            ]
          },
          "execution_count": 46,
          "metadata": {},
          "output_type": "execute_result"
        }
      ],
      "source": [
        "df2"
      ]
    },
    {
      "cell_type": "code",
      "execution_count": null,
      "id": "66fb49f3",
      "metadata": {},
      "outputs": [],
      "source": []
    }
  ],
  "metadata": {
    "colab": {
      "provenance": []
    },
    "kernelspec": {
      "display_name": "Python 3 (ipykernel)",
      "language": "python",
      "name": "python3"
    },
    "language_info": {
      "codemirror_mode": {
        "name": "ipython",
        "version": 3
      },
      "file_extension": ".py",
      "mimetype": "text/x-python",
      "name": "python",
      "nbconvert_exporter": "python",
      "pygments_lexer": "ipython3",
      "version": "3.11.4"
    }
  },
  "nbformat": 4,
  "nbformat_minor": 5
}
